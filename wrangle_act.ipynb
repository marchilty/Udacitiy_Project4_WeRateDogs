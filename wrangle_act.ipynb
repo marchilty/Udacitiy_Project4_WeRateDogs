{
 "cells": [
  {
   "cell_type": "markdown",
   "metadata": {},
   "source": [
    "# Data Wrangling Project - Twitter Dog Archive"
   ]
  },
  {
   "cell_type": "markdown",
   "metadata": {},
   "source": [
    "# Introduction\n",
    "**This project, which is part of Udacity's Data Analyst Nanodegree Programm, is about the twitter account @WeRateDogs that regularly posts pictures dogs, gives them a rating, fits them into a category and provides a short text along with the pictures. They have millions of followers worldwide and in this project I analyze the most important aspects of their posting history looking for the best \"doggo\".**\n",
    "\n",
    "### Table of Contents\n",
    "\n",
    "- [Gather](#gather)\n",
    "- [Assess](#assess)\n",
    "- [Clean](#clean)\n",
    "- [Analyze](#analyze)\n",
    "- [Sources](#sources)"
   ]
  },
  {
   "cell_type": "code",
   "execution_count": 1,
   "metadata": {},
   "outputs": [],
   "source": [
    "import requests\n",
    "import os\n",
    "import json\n",
    "import pandas as pd\n",
    "import numpy as np\n",
    "import matplotlib.pyplot as plt\n",
    "import seaborn as sns\n",
    "% matplotlib inline"
   ]
  },
  {
   "cell_type": "markdown",
   "metadata": {},
   "source": [
    "<a id='gather'></a>\n",
    "# Gathering"
   ]
  },
  {
   "cell_type": "markdown",
   "metadata": {},
   "source": [
    "Udacity provides 2 files that need to be cleaned. The data itself was provided to Udacity by WeRateDogs on Twitter and a machine learning algorithm Udacity used to identify dog breeds in the pictures.\n",
    "\n",
    "I start with downloading both files programmatically for reproductivity and importing them into pandas dataframes."
   ]
  },
  {
   "cell_type": "code",
   "execution_count": 11,
   "metadata": {},
   "outputs": [],
   "source": [
    "#Create new subfolder (tidiness is important ;))\n",
    "folder_name = 'twitter_archive'\n",
    "if not os.path.exists(folder_name):\n",
    "    os.makedirs(folder_name)\n",
    "    \n",
    "#URLs to the files\n",
    "url1 = 'https://d17h27t6h515a5.cloudfront.net/topher/2017/August/59a4e958_twitter-archive-enhanced/twitter-archive-enhanced.csv'    \n",
    "url2 = 'https://d17h27t6h515a5.cloudfront.net/topher/2017/August/599fd2ad_image-predictions/image-predictions.tsv'\n",
    "\n",
    "response1 = requests.get(url1)\n",
    "response2 = requests.get(url2)\n",
    "\n",
    "#Save to a file\n",
    "with open(os.path.join(folder_name, url1.split('/')[-1]), mode = 'wb') as file:\n",
    "    file.write(response1.content)\n",
    "with open(os.path.join(folder_name, url2.split('/')[-1]), mode = 'wb') as file:\n",
    "    file.write(response2.content)"
   ]
  },
  {
   "cell_type": "code",
   "execution_count": 2,
   "metadata": {},
   "outputs": [],
   "source": [
    "archive = pd.read_csv('twitter_archive/twitter-archive-enhanced.csv')\n",
    "predictions = pd.read_csv('twitter_archive/image-predictions.tsv', sep='\\t')"
   ]
  },
  {
   "cell_type": "code",
   "execution_count": 3,
   "metadata": {},
   "outputs": [
    {
     "data": {
      "text/html": [
       "<div>\n",
       "<style scoped>\n",
       "    .dataframe tbody tr th:only-of-type {\n",
       "        vertical-align: middle;\n",
       "    }\n",
       "\n",
       "    .dataframe tbody tr th {\n",
       "        vertical-align: top;\n",
       "    }\n",
       "\n",
       "    .dataframe thead th {\n",
       "        text-align: right;\n",
       "    }\n",
       "</style>\n",
       "<table border=\"1\" class=\"dataframe\">\n",
       "  <thead>\n",
       "    <tr style=\"text-align: right;\">\n",
       "      <th></th>\n",
       "      <th>tweet_id</th>\n",
       "      <th>in_reply_to_status_id</th>\n",
       "      <th>in_reply_to_user_id</th>\n",
       "      <th>timestamp</th>\n",
       "      <th>source</th>\n",
       "      <th>text</th>\n",
       "      <th>retweeted_status_id</th>\n",
       "      <th>retweeted_status_user_id</th>\n",
       "      <th>retweeted_status_timestamp</th>\n",
       "      <th>expanded_urls</th>\n",
       "      <th>rating_numerator</th>\n",
       "      <th>rating_denominator</th>\n",
       "      <th>name</th>\n",
       "      <th>doggo</th>\n",
       "      <th>floofer</th>\n",
       "      <th>pupper</th>\n",
       "      <th>puppo</th>\n",
       "    </tr>\n",
       "  </thead>\n",
       "  <tbody>\n",
       "    <tr>\n",
       "      <th>0</th>\n",
       "      <td>892420643555336193</td>\n",
       "      <td>NaN</td>\n",
       "      <td>NaN</td>\n",
       "      <td>2017-08-01 16:23:56 +0000</td>\n",
       "      <td>&lt;a href=\"http://twitter.com/download/iphone\" r...</td>\n",
       "      <td>This is Phineas. He's a mystical boy. Only eve...</td>\n",
       "      <td>NaN</td>\n",
       "      <td>NaN</td>\n",
       "      <td>NaN</td>\n",
       "      <td>https://twitter.com/dog_rates/status/892420643...</td>\n",
       "      <td>13</td>\n",
       "      <td>10</td>\n",
       "      <td>Phineas</td>\n",
       "      <td>None</td>\n",
       "      <td>None</td>\n",
       "      <td>None</td>\n",
       "      <td>None</td>\n",
       "    </tr>\n",
       "    <tr>\n",
       "      <th>1</th>\n",
       "      <td>892177421306343426</td>\n",
       "      <td>NaN</td>\n",
       "      <td>NaN</td>\n",
       "      <td>2017-08-01 00:17:27 +0000</td>\n",
       "      <td>&lt;a href=\"http://twitter.com/download/iphone\" r...</td>\n",
       "      <td>This is Tilly. She's just checking pup on you....</td>\n",
       "      <td>NaN</td>\n",
       "      <td>NaN</td>\n",
       "      <td>NaN</td>\n",
       "      <td>https://twitter.com/dog_rates/status/892177421...</td>\n",
       "      <td>13</td>\n",
       "      <td>10</td>\n",
       "      <td>Tilly</td>\n",
       "      <td>None</td>\n",
       "      <td>None</td>\n",
       "      <td>None</td>\n",
       "      <td>None</td>\n",
       "    </tr>\n",
       "    <tr>\n",
       "      <th>2</th>\n",
       "      <td>891815181378084864</td>\n",
       "      <td>NaN</td>\n",
       "      <td>NaN</td>\n",
       "      <td>2017-07-31 00:18:03 +0000</td>\n",
       "      <td>&lt;a href=\"http://twitter.com/download/iphone\" r...</td>\n",
       "      <td>This is Archie. He is a rare Norwegian Pouncin...</td>\n",
       "      <td>NaN</td>\n",
       "      <td>NaN</td>\n",
       "      <td>NaN</td>\n",
       "      <td>https://twitter.com/dog_rates/status/891815181...</td>\n",
       "      <td>12</td>\n",
       "      <td>10</td>\n",
       "      <td>Archie</td>\n",
       "      <td>None</td>\n",
       "      <td>None</td>\n",
       "      <td>None</td>\n",
       "      <td>None</td>\n",
       "    </tr>\n",
       "    <tr>\n",
       "      <th>3</th>\n",
       "      <td>891689557279858688</td>\n",
       "      <td>NaN</td>\n",
       "      <td>NaN</td>\n",
       "      <td>2017-07-30 15:58:51 +0000</td>\n",
       "      <td>&lt;a href=\"http://twitter.com/download/iphone\" r...</td>\n",
       "      <td>This is Darla. She commenced a snooze mid meal...</td>\n",
       "      <td>NaN</td>\n",
       "      <td>NaN</td>\n",
       "      <td>NaN</td>\n",
       "      <td>https://twitter.com/dog_rates/status/891689557...</td>\n",
       "      <td>13</td>\n",
       "      <td>10</td>\n",
       "      <td>Darla</td>\n",
       "      <td>None</td>\n",
       "      <td>None</td>\n",
       "      <td>None</td>\n",
       "      <td>None</td>\n",
       "    </tr>\n",
       "    <tr>\n",
       "      <th>4</th>\n",
       "      <td>891327558926688256</td>\n",
       "      <td>NaN</td>\n",
       "      <td>NaN</td>\n",
       "      <td>2017-07-29 16:00:24 +0000</td>\n",
       "      <td>&lt;a href=\"http://twitter.com/download/iphone\" r...</td>\n",
       "      <td>This is Franklin. He would like you to stop ca...</td>\n",
       "      <td>NaN</td>\n",
       "      <td>NaN</td>\n",
       "      <td>NaN</td>\n",
       "      <td>https://twitter.com/dog_rates/status/891327558...</td>\n",
       "      <td>12</td>\n",
       "      <td>10</td>\n",
       "      <td>Franklin</td>\n",
       "      <td>None</td>\n",
       "      <td>None</td>\n",
       "      <td>None</td>\n",
       "      <td>None</td>\n",
       "    </tr>\n",
       "  </tbody>\n",
       "</table>\n",
       "</div>"
      ],
      "text/plain": [
       "             tweet_id  in_reply_to_status_id  in_reply_to_user_id  \\\n",
       "0  892420643555336193                    NaN                  NaN   \n",
       "1  892177421306343426                    NaN                  NaN   \n",
       "2  891815181378084864                    NaN                  NaN   \n",
       "3  891689557279858688                    NaN                  NaN   \n",
       "4  891327558926688256                    NaN                  NaN   \n",
       "\n",
       "                   timestamp  \\\n",
       "0  2017-08-01 16:23:56 +0000   \n",
       "1  2017-08-01 00:17:27 +0000   \n",
       "2  2017-07-31 00:18:03 +0000   \n",
       "3  2017-07-30 15:58:51 +0000   \n",
       "4  2017-07-29 16:00:24 +0000   \n",
       "\n",
       "                                              source  \\\n",
       "0  <a href=\"http://twitter.com/download/iphone\" r...   \n",
       "1  <a href=\"http://twitter.com/download/iphone\" r...   \n",
       "2  <a href=\"http://twitter.com/download/iphone\" r...   \n",
       "3  <a href=\"http://twitter.com/download/iphone\" r...   \n",
       "4  <a href=\"http://twitter.com/download/iphone\" r...   \n",
       "\n",
       "                                                text  retweeted_status_id  \\\n",
       "0  This is Phineas. He's a mystical boy. Only eve...                  NaN   \n",
       "1  This is Tilly. She's just checking pup on you....                  NaN   \n",
       "2  This is Archie. He is a rare Norwegian Pouncin...                  NaN   \n",
       "3  This is Darla. She commenced a snooze mid meal...                  NaN   \n",
       "4  This is Franklin. He would like you to stop ca...                  NaN   \n",
       "\n",
       "   retweeted_status_user_id retweeted_status_timestamp  \\\n",
       "0                       NaN                        NaN   \n",
       "1                       NaN                        NaN   \n",
       "2                       NaN                        NaN   \n",
       "3                       NaN                        NaN   \n",
       "4                       NaN                        NaN   \n",
       "\n",
       "                                       expanded_urls  rating_numerator  \\\n",
       "0  https://twitter.com/dog_rates/status/892420643...                13   \n",
       "1  https://twitter.com/dog_rates/status/892177421...                13   \n",
       "2  https://twitter.com/dog_rates/status/891815181...                12   \n",
       "3  https://twitter.com/dog_rates/status/891689557...                13   \n",
       "4  https://twitter.com/dog_rates/status/891327558...                12   \n",
       "\n",
       "   rating_denominator      name doggo floofer pupper puppo  \n",
       "0                  10   Phineas  None    None   None  None  \n",
       "1                  10     Tilly  None    None   None  None  \n",
       "2                  10    Archie  None    None   None  None  \n",
       "3                  10     Darla  None    None   None  None  \n",
       "4                  10  Franklin  None    None   None  None  "
      ]
     },
     "execution_count": 3,
     "metadata": {},
     "output_type": "execute_result"
    }
   ],
   "source": [
    "archive.head()"
   ]
  },
  {
   "cell_type": "markdown",
   "metadata": {},
   "source": [
    "The Dataframes are now accessible within pandas. The next step is importing new data through the Twitter API 'tweepy'."
   ]
  },
  {
   "cell_type": "code",
   "execution_count": 6,
   "metadata": {
    "scrolled": false
   },
   "outputs": [],
   "source": [
    "import tweepy\n",
    "\n",
    "#Setting up API access and connecting\n",
    "consumer_key = ''\n",
    "consumer_secret = '' \n",
    "access_token = ''\n",
    "access_secret = ''\n",
    "\n",
    "auth = tweepy.OAuthHandler(consumer_key, consumer_secret)\n",
    "auth.set_access_token(access_token, access_secret)\n",
    "\n",
    "api = tweepy.API(auth, \n",
    "                 wait_on_rate_limit=True, \n",
    "                 wait_on_rate_limit_notify=True)"
   ]
  },
  {
   "cell_type": "code",
   "execution_count": 7,
   "metadata": {
    "scrolled": true
   },
   "outputs": [
    {
     "name": "stderr",
     "output_type": "stream",
     "text": [
      "Rate limit reached. Sleeping for: 86\n"
     ]
    },
    {
     "name": "stdout",
     "output_type": "stream",
     "text": [
      "Error while parsing: 888202515573088257\n",
      "Error while parsing: 873697596434513921\n",
      "Error while parsing: 872668790621863937\n",
      "Error while parsing: 869988702071779329\n",
      "Error while parsing: 866816280283807744\n",
      "Error while parsing: 861769973181624320\n",
      "Error while parsing: 845459076796616705\n",
      "Error while parsing: 842892208864923648\n",
      "Error while parsing: 837012587749474308\n",
      "Error while parsing: 827228250799742977\n",
      "Error while parsing: 812747805718642688\n",
      "Error while parsing: 802247111496568832\n",
      "Error while parsing: 775096608509886464\n",
      "Error while parsing: 770743923962707968\n"
     ]
    },
    {
     "name": "stderr",
     "output_type": "stream",
     "text": [
      "Rate limit reached. Sleeping for: 547\n"
     ]
    },
    {
     "name": "stdout",
     "output_type": "stream",
     "text": [
      "Error while parsing: 754011816964026368\n",
      "Error while parsing: 680055455951884288\n"
     ]
    },
    {
     "name": "stderr",
     "output_type": "stream",
     "text": [
      "Rate limit reached. Sleeping for: 561\n"
     ]
    }
   ],
   "source": [
    "failed_ids = []\n",
    "tweet_ids = list(archive.tweet_id)\n",
    "\n",
    "#For loop to save the tweet data to a JSON file and saving failed ids\n",
    "#to a seperate list\n",
    "with open(os.path.join('twitter_archive', 'tweet_json.txt'), mode='a', encoding='UTF-8') as file:\n",
    "    for id in tweet_ids:\n",
    "        try:\n",
    "            tweet = api.get_status(id, tweet_mode='extended')\n",
    "            json.dump(tweet._json, file)\n",
    "            file.write('\\n')\n",
    "        except:\n",
    "            print('Error while parsing: ' + str(id))\n",
    "            failed_ids.append(id)"
   ]
  },
  {
   "cell_type": "code",
   "execution_count": 3,
   "metadata": {},
   "outputs": [],
   "source": [
    "#I import the whole JSON into a pandas Dataframe using .read_json\n",
    "jdata = 'twitter_archive/tweet_json.txt'\n",
    "tweet_addition = pd.read_json(jdata, convert_dates=True, lines=True, encoding='UTF-8')"
   ]
  },
  {
   "cell_type": "markdown",
   "metadata": {},
   "source": [
    "I import the whole dataset into a pandas DataFrame to make it easier to add additional parameters. It is an easy task during cleaning to extract certain columns, but adding them in later on is much more difficult."
   ]
  },
  {
   "cell_type": "markdown",
   "metadata": {},
   "source": [
    "**I successfully imported 3 DataFrames into pandas: \"archive\" (provided directly by WeRateDogs), \"predictions\" (image predictions from Udacity using machine learning algorithms) and \"tweet_addition\" (additional information gathered from the API). \n",
    "<br><br> \n",
    "They all come from different sources, hence they need to be addressed seperately during assessing and cleaning. I try to merge all three tables into one that contains all relevant information for this project.**"
   ]
  },
  {
   "cell_type": "markdown",
   "metadata": {},
   "source": [
    "<a id='assess'></a>\n",
    "# Assess"
   ]
  },
  {
   "cell_type": "code",
   "execution_count": 74,
   "metadata": {
    "scrolled": true
   },
   "outputs": [
    {
     "data": {
      "text/html": [
       "<div>\n",
       "<style scoped>\n",
       "    .dataframe tbody tr th:only-of-type {\n",
       "        vertical-align: middle;\n",
       "    }\n",
       "\n",
       "    .dataframe tbody tr th {\n",
       "        vertical-align: top;\n",
       "    }\n",
       "\n",
       "    .dataframe thead th {\n",
       "        text-align: right;\n",
       "    }\n",
       "</style>\n",
       "<table border=\"1\" class=\"dataframe\">\n",
       "  <thead>\n",
       "    <tr style=\"text-align: right;\">\n",
       "      <th></th>\n",
       "      <th>tweet_id</th>\n",
       "      <th>in_reply_to_status_id</th>\n",
       "      <th>in_reply_to_user_id</th>\n",
       "      <th>timestamp</th>\n",
       "      <th>source</th>\n",
       "      <th>text</th>\n",
       "      <th>retweeted_status_id</th>\n",
       "      <th>retweeted_status_user_id</th>\n",
       "      <th>retweeted_status_timestamp</th>\n",
       "      <th>expanded_urls</th>\n",
       "      <th>rating_numerator</th>\n",
       "      <th>rating_denominator</th>\n",
       "      <th>name</th>\n",
       "      <th>doggo</th>\n",
       "      <th>floofer</th>\n",
       "      <th>pupper</th>\n",
       "      <th>puppo</th>\n",
       "    </tr>\n",
       "  </thead>\n",
       "  <tbody>\n",
       "    <tr>\n",
       "      <th>130</th>\n",
       "      <td>867072653475098625</td>\n",
       "      <td>NaN</td>\n",
       "      <td>NaN</td>\n",
       "      <td>2017-05-23 17:40:04 +0000</td>\n",
       "      <td>&lt;a href=\"http://twitter.com/download/iphone\" r...</td>\n",
       "      <td>RT @rachaeleasler: these @dog_rates hats are 1...</td>\n",
       "      <td>8.650134e+17</td>\n",
       "      <td>7.874618e+17</td>\n",
       "      <td>2017-05-18 01:17:25 +0000</td>\n",
       "      <td>https://twitter.com/rachaeleasler/status/86501...</td>\n",
       "      <td>13</td>\n",
       "      <td>10</td>\n",
       "      <td>None</td>\n",
       "      <td>None</td>\n",
       "      <td>None</td>\n",
       "      <td>None</td>\n",
       "      <td>None</td>\n",
       "    </tr>\n",
       "    <tr>\n",
       "      <th>616</th>\n",
       "      <td>796484825502875648</td>\n",
       "      <td>NaN</td>\n",
       "      <td>NaN</td>\n",
       "      <td>2016-11-09 22:49:15 +0000</td>\n",
       "      <td>&lt;a href=\"http://twitter.com/download/iphone\" r...</td>\n",
       "      <td>Here's a sleepy doggo that requested some assi...</td>\n",
       "      <td>NaN</td>\n",
       "      <td>NaN</td>\n",
       "      <td>NaN</td>\n",
       "      <td>https://twitter.com/dog_rates/status/796484825...</td>\n",
       "      <td>12</td>\n",
       "      <td>10</td>\n",
       "      <td>None</td>\n",
       "      <td>doggo</td>\n",
       "      <td>None</td>\n",
       "      <td>None</td>\n",
       "      <td>None</td>\n",
       "    </tr>\n",
       "    <tr>\n",
       "      <th>370</th>\n",
       "      <td>828409743546925057</td>\n",
       "      <td>NaN</td>\n",
       "      <td>NaN</td>\n",
       "      <td>2017-02-06 01:07:28 +0000</td>\n",
       "      <td>&lt;a href=\"http://twitter.com/download/iphone\" r...</td>\n",
       "      <td>This is Mutt Ryan. He's quite confident at the...</td>\n",
       "      <td>NaN</td>\n",
       "      <td>NaN</td>\n",
       "      <td>NaN</td>\n",
       "      <td>https://twitter.com/dog_rates/status/828409743...</td>\n",
       "      <td>12</td>\n",
       "      <td>10</td>\n",
       "      <td>Mutt</td>\n",
       "      <td>None</td>\n",
       "      <td>None</td>\n",
       "      <td>None</td>\n",
       "      <td>None</td>\n",
       "    </tr>\n",
       "    <tr>\n",
       "      <th>1516</th>\n",
       "      <td>690959652130045952</td>\n",
       "      <td>NaN</td>\n",
       "      <td>NaN</td>\n",
       "      <td>2016-01-23 18:09:53 +0000</td>\n",
       "      <td>&lt;a href=\"http://twitter.com/download/iphone\" r...</td>\n",
       "      <td>This golden is happy to refute the soft mouth ...</td>\n",
       "      <td>NaN</td>\n",
       "      <td>NaN</td>\n",
       "      <td>NaN</td>\n",
       "      <td>https://twitter.com/dog_rates/status/690959652...</td>\n",
       "      <td>11</td>\n",
       "      <td>10</td>\n",
       "      <td>None</td>\n",
       "      <td>None</td>\n",
       "      <td>None</td>\n",
       "      <td>None</td>\n",
       "      <td>None</td>\n",
       "    </tr>\n",
       "    <tr>\n",
       "      <th>1550</th>\n",
       "      <td>689154315265683456</td>\n",
       "      <td>NaN</td>\n",
       "      <td>NaN</td>\n",
       "      <td>2016-01-18 18:36:07 +0000</td>\n",
       "      <td>&lt;a href=\"http://twitter.com/download/iphone\" r...</td>\n",
       "      <td>We normally don't rate birds but I feel bad co...</td>\n",
       "      <td>NaN</td>\n",
       "      <td>NaN</td>\n",
       "      <td>NaN</td>\n",
       "      <td>https://twitter.com/dog_rates/status/689154315...</td>\n",
       "      <td>9</td>\n",
       "      <td>10</td>\n",
       "      <td>None</td>\n",
       "      <td>None</td>\n",
       "      <td>None</td>\n",
       "      <td>None</td>\n",
       "      <td>None</td>\n",
       "    </tr>\n",
       "    <tr>\n",
       "      <th>1103</th>\n",
       "      <td>735256018284875776</td>\n",
       "      <td>NaN</td>\n",
       "      <td>NaN</td>\n",
       "      <td>2016-05-24 23:47:49 +0000</td>\n",
       "      <td>&lt;a href=\"http://twitter.com/download/iphone\" r...</td>\n",
       "      <td>This is Kellogg. He accidentally opened the fr...</td>\n",
       "      <td>NaN</td>\n",
       "      <td>NaN</td>\n",
       "      <td>NaN</td>\n",
       "      <td>https://twitter.com/dog_rates/status/735256018...</td>\n",
       "      <td>8</td>\n",
       "      <td>10</td>\n",
       "      <td>Kellogg</td>\n",
       "      <td>doggo</td>\n",
       "      <td>None</td>\n",
       "      <td>None</td>\n",
       "      <td>None</td>\n",
       "    </tr>\n",
       "    <tr>\n",
       "      <th>1146</th>\n",
       "      <td>727155742655025152</td>\n",
       "      <td>NaN</td>\n",
       "      <td>NaN</td>\n",
       "      <td>2016-05-02 15:20:13 +0000</td>\n",
       "      <td>&lt;a href=\"http://vine.co\" rel=\"nofollow\"&gt;Vine -...</td>\n",
       "      <td>When you're trying to enjoy yourself but end u...</td>\n",
       "      <td>NaN</td>\n",
       "      <td>NaN</td>\n",
       "      <td>NaN</td>\n",
       "      <td>https://vine.co/v/ixa1ejbXiM7</td>\n",
       "      <td>11</td>\n",
       "      <td>10</td>\n",
       "      <td>None</td>\n",
       "      <td>None</td>\n",
       "      <td>None</td>\n",
       "      <td>None</td>\n",
       "      <td>None</td>\n",
       "    </tr>\n",
       "    <tr>\n",
       "      <th>1597</th>\n",
       "      <td>686050296934563840</td>\n",
       "      <td>NaN</td>\n",
       "      <td>NaN</td>\n",
       "      <td>2016-01-10 05:01:51 +0000</td>\n",
       "      <td>&lt;a href=\"http://twitter.com/download/iphone\" r...</td>\n",
       "      <td>This is Flávio. He's a Macedonian Poppycock. 9...</td>\n",
       "      <td>NaN</td>\n",
       "      <td>NaN</td>\n",
       "      <td>NaN</td>\n",
       "      <td>https://twitter.com/dog_rates/status/686050296...</td>\n",
       "      <td>11</td>\n",
       "      <td>10</td>\n",
       "      <td>Flávio</td>\n",
       "      <td>None</td>\n",
       "      <td>None</td>\n",
       "      <td>None</td>\n",
       "      <td>None</td>\n",
       "    </tr>\n",
       "    <tr>\n",
       "      <th>1000</th>\n",
       "      <td>747963614829678593</td>\n",
       "      <td>NaN</td>\n",
       "      <td>NaN</td>\n",
       "      <td>2016-06-29 01:23:16 +0000</td>\n",
       "      <td>&lt;a href=\"http://twitter.com/download/iphone\" r...</td>\n",
       "      <td>PUPPER NOOOOO BEHIND YOUUU 10/10 pls keep this...</td>\n",
       "      <td>NaN</td>\n",
       "      <td>NaN</td>\n",
       "      <td>NaN</td>\n",
       "      <td>https://twitter.com/dog_rates/status/747963614...</td>\n",
       "      <td>10</td>\n",
       "      <td>10</td>\n",
       "      <td>None</td>\n",
       "      <td>None</td>\n",
       "      <td>None</td>\n",
       "      <td>pupper</td>\n",
       "      <td>None</td>\n",
       "    </tr>\n",
       "    <tr>\n",
       "      <th>378</th>\n",
       "      <td>827933404142436356</td>\n",
       "      <td>NaN</td>\n",
       "      <td>NaN</td>\n",
       "      <td>2017-02-04 17:34:40 +0000</td>\n",
       "      <td>&lt;a href=\"http://twitter.com/download/iphone\" r...</td>\n",
       "      <td>This is Kona. Yesterday she stopped by the dep...</td>\n",
       "      <td>NaN</td>\n",
       "      <td>NaN</td>\n",
       "      <td>NaN</td>\n",
       "      <td>https://twitter.com/dog_rates/status/827933404...</td>\n",
       "      <td>12</td>\n",
       "      <td>10</td>\n",
       "      <td>Kona</td>\n",
       "      <td>None</td>\n",
       "      <td>None</td>\n",
       "      <td>pupper</td>\n",
       "      <td>None</td>\n",
       "    </tr>\n",
       "  </tbody>\n",
       "</table>\n",
       "</div>"
      ],
      "text/plain": [
       "                tweet_id  in_reply_to_status_id  in_reply_to_user_id  \\\n",
       "130   867072653475098625                    NaN                  NaN   \n",
       "616   796484825502875648                    NaN                  NaN   \n",
       "370   828409743546925057                    NaN                  NaN   \n",
       "1516  690959652130045952                    NaN                  NaN   \n",
       "1550  689154315265683456                    NaN                  NaN   \n",
       "1103  735256018284875776                    NaN                  NaN   \n",
       "1146  727155742655025152                    NaN                  NaN   \n",
       "1597  686050296934563840                    NaN                  NaN   \n",
       "1000  747963614829678593                    NaN                  NaN   \n",
       "378   827933404142436356                    NaN                  NaN   \n",
       "\n",
       "                      timestamp  \\\n",
       "130   2017-05-23 17:40:04 +0000   \n",
       "616   2016-11-09 22:49:15 +0000   \n",
       "370   2017-02-06 01:07:28 +0000   \n",
       "1516  2016-01-23 18:09:53 +0000   \n",
       "1550  2016-01-18 18:36:07 +0000   \n",
       "1103  2016-05-24 23:47:49 +0000   \n",
       "1146  2016-05-02 15:20:13 +0000   \n",
       "1597  2016-01-10 05:01:51 +0000   \n",
       "1000  2016-06-29 01:23:16 +0000   \n",
       "378   2017-02-04 17:34:40 +0000   \n",
       "\n",
       "                                                 source  \\\n",
       "130   <a href=\"http://twitter.com/download/iphone\" r...   \n",
       "616   <a href=\"http://twitter.com/download/iphone\" r...   \n",
       "370   <a href=\"http://twitter.com/download/iphone\" r...   \n",
       "1516  <a href=\"http://twitter.com/download/iphone\" r...   \n",
       "1550  <a href=\"http://twitter.com/download/iphone\" r...   \n",
       "1103  <a href=\"http://twitter.com/download/iphone\" r...   \n",
       "1146  <a href=\"http://vine.co\" rel=\"nofollow\">Vine -...   \n",
       "1597  <a href=\"http://twitter.com/download/iphone\" r...   \n",
       "1000  <a href=\"http://twitter.com/download/iphone\" r...   \n",
       "378   <a href=\"http://twitter.com/download/iphone\" r...   \n",
       "\n",
       "                                                   text  retweeted_status_id  \\\n",
       "130   RT @rachaeleasler: these @dog_rates hats are 1...         8.650134e+17   \n",
       "616   Here's a sleepy doggo that requested some assi...                  NaN   \n",
       "370   This is Mutt Ryan. He's quite confident at the...                  NaN   \n",
       "1516  This golden is happy to refute the soft mouth ...                  NaN   \n",
       "1550  We normally don't rate birds but I feel bad co...                  NaN   \n",
       "1103  This is Kellogg. He accidentally opened the fr...                  NaN   \n",
       "1146  When you're trying to enjoy yourself but end u...                  NaN   \n",
       "1597  This is Flávio. He's a Macedonian Poppycock. 9...                  NaN   \n",
       "1000  PUPPER NOOOOO BEHIND YOUUU 10/10 pls keep this...                  NaN   \n",
       "378   This is Kona. Yesterday she stopped by the dep...                  NaN   \n",
       "\n",
       "      retweeted_status_user_id retweeted_status_timestamp  \\\n",
       "130               7.874618e+17  2017-05-18 01:17:25 +0000   \n",
       "616                        NaN                        NaN   \n",
       "370                        NaN                        NaN   \n",
       "1516                       NaN                        NaN   \n",
       "1550                       NaN                        NaN   \n",
       "1103                       NaN                        NaN   \n",
       "1146                       NaN                        NaN   \n",
       "1597                       NaN                        NaN   \n",
       "1000                       NaN                        NaN   \n",
       "378                        NaN                        NaN   \n",
       "\n",
       "                                          expanded_urls  rating_numerator  \\\n",
       "130   https://twitter.com/rachaeleasler/status/86501...                13   \n",
       "616   https://twitter.com/dog_rates/status/796484825...                12   \n",
       "370   https://twitter.com/dog_rates/status/828409743...                12   \n",
       "1516  https://twitter.com/dog_rates/status/690959652...                11   \n",
       "1550  https://twitter.com/dog_rates/status/689154315...                 9   \n",
       "1103  https://twitter.com/dog_rates/status/735256018...                 8   \n",
       "1146                      https://vine.co/v/ixa1ejbXiM7                11   \n",
       "1597  https://twitter.com/dog_rates/status/686050296...                11   \n",
       "1000  https://twitter.com/dog_rates/status/747963614...                10   \n",
       "378   https://twitter.com/dog_rates/status/827933404...                12   \n",
       "\n",
       "      rating_denominator     name  doggo floofer  pupper puppo  \n",
       "130                   10     None   None    None    None  None  \n",
       "616                   10     None  doggo    None    None  None  \n",
       "370                   10     Mutt   None    None    None  None  \n",
       "1516                  10     None   None    None    None  None  \n",
       "1550                  10     None   None    None    None  None  \n",
       "1103                  10  Kellogg  doggo    None    None  None  \n",
       "1146                  10     None   None    None    None  None  \n",
       "1597                  10   Flávio   None    None    None  None  \n",
       "1000                  10     None   None    None  pupper  None  \n",
       "378                   10     Kona   None    None  pupper  None  "
      ]
     },
     "execution_count": 74,
     "metadata": {},
     "output_type": "execute_result"
    }
   ],
   "source": [
    "archive.sample(10)"
   ]
  },
  {
   "cell_type": "code",
   "execution_count": 6,
   "metadata": {
    "scrolled": false
   },
   "outputs": [
    {
     "data": {
      "text/plain": [
       "None        745\n",
       "a            55\n",
       "Charlie      12\n",
       "Lucy         11\n",
       "Cooper       11\n",
       "Oliver       11\n",
       "Tucker       10\n",
       "Penny        10\n",
       "Lola         10\n",
       "Winston       9\n",
       "Bo            9\n",
       "the           8\n",
       "Sadie         8\n",
       "an            7\n",
       "Bailey        7\n",
       "Buddy         7\n",
       "Daisy         7\n",
       "Toby          7\n",
       "Leo           6\n",
       "Jack          6\n",
       "Stanley       6\n",
       "Bella         6\n",
       "Koda          6\n",
       "Milo          6\n",
       "Scout         6\n",
       "Rusty         6\n",
       "Jax           6\n",
       "Oscar         6\n",
       "Dave          6\n",
       "Phil          5\n",
       "           ... \n",
       "Lilah         1\n",
       "Ricky         1\n",
       "Tedders       1\n",
       "Reptar        1\n",
       "Bloo          1\n",
       "Cecil         1\n",
       "Jackie        1\n",
       "Carbon        1\n",
       "Holly         1\n",
       "Huck          1\n",
       "Monster       1\n",
       "light         1\n",
       "Batdog        1\n",
       "Juckson       1\n",
       "Steve         1\n",
       "Godzilla      1\n",
       "Fletcher      1\n",
       "Franq         1\n",
       "Cuddles       1\n",
       "Geoff         1\n",
       "Blanket       1\n",
       "Dewey         1\n",
       "Ralph         1\n",
       "Freddery      1\n",
       "Moofasa       1\n",
       "Vince         1\n",
       "Hamrick       1\n",
       "Theo          1\n",
       "Billy         1\n",
       "Tess          1\n",
       "Name: name, Length: 957, dtype: int64"
      ]
     },
     "execution_count": 6,
     "metadata": {},
     "output_type": "execute_result"
    }
   ],
   "source": [
    "archive['name'].value_counts()"
   ]
  },
  {
   "cell_type": "code",
   "execution_count": 7,
   "metadata": {
    "scrolled": true
   },
   "outputs": [
    {
     "name": "stdout",
     "output_type": "stream",
     "text": [
      "<class 'pandas.core.frame.DataFrame'>\n",
      "RangeIndex: 2356 entries, 0 to 2355\n",
      "Data columns (total 17 columns):\n",
      "tweet_id                      2356 non-null int64\n",
      "in_reply_to_status_id         78 non-null float64\n",
      "in_reply_to_user_id           78 non-null float64\n",
      "timestamp                     2356 non-null object\n",
      "source                        2356 non-null object\n",
      "text                          2356 non-null object\n",
      "retweeted_status_id           181 non-null float64\n",
      "retweeted_status_user_id      181 non-null float64\n",
      "retweeted_status_timestamp    181 non-null object\n",
      "expanded_urls                 2297 non-null object\n",
      "rating_numerator              2356 non-null int64\n",
      "rating_denominator            2356 non-null int64\n",
      "name                          2356 non-null object\n",
      "doggo                         2356 non-null object\n",
      "floofer                       2356 non-null object\n",
      "pupper                        2356 non-null object\n",
      "puppo                         2356 non-null object\n",
      "dtypes: float64(4), int64(3), object(10)\n",
      "memory usage: 313.0+ KB\n"
     ]
    }
   ],
   "source": [
    "archive.info()"
   ]
  },
  {
   "cell_type": "code",
   "execution_count": 8,
   "metadata": {
    "scrolled": true
   },
   "outputs": [
    {
     "name": "stdout",
     "output_type": "stream",
     "text": [
      "<class 'pandas.core.frame.DataFrame'>\n",
      "RangeIndex: 2075 entries, 0 to 2074\n",
      "Data columns (total 12 columns):\n",
      "tweet_id    2075 non-null int64\n",
      "jpg_url     2075 non-null object\n",
      "img_num     2075 non-null int64\n",
      "p1          2075 non-null object\n",
      "p1_conf     2075 non-null float64\n",
      "p1_dog      2075 non-null bool\n",
      "p2          2075 non-null object\n",
      "p2_conf     2075 non-null float64\n",
      "p2_dog      2075 non-null bool\n",
      "p3          2075 non-null object\n",
      "p3_conf     2075 non-null float64\n",
      "p3_dog      2075 non-null bool\n",
      "dtypes: bool(3), float64(3), int64(2), object(4)\n",
      "memory usage: 152.1+ KB\n"
     ]
    }
   ],
   "source": [
    "predictions.info()"
   ]
  },
  {
   "cell_type": "code",
   "execution_count": 9,
   "metadata": {
    "scrolled": false
   },
   "outputs": [
    {
     "data": {
      "text/html": [
       "<div>\n",
       "<style scoped>\n",
       "    .dataframe tbody tr th:only-of-type {\n",
       "        vertical-align: middle;\n",
       "    }\n",
       "\n",
       "    .dataframe tbody tr th {\n",
       "        vertical-align: top;\n",
       "    }\n",
       "\n",
       "    .dataframe thead th {\n",
       "        text-align: right;\n",
       "    }\n",
       "</style>\n",
       "<table border=\"1\" class=\"dataframe\">\n",
       "  <thead>\n",
       "    <tr style=\"text-align: right;\">\n",
       "      <th></th>\n",
       "      <th>tweet_id</th>\n",
       "      <th>jpg_url</th>\n",
       "      <th>img_num</th>\n",
       "      <th>p1</th>\n",
       "      <th>p1_conf</th>\n",
       "      <th>p1_dog</th>\n",
       "      <th>p2</th>\n",
       "      <th>p2_conf</th>\n",
       "      <th>p2_dog</th>\n",
       "      <th>p3</th>\n",
       "      <th>p3_conf</th>\n",
       "      <th>p3_dog</th>\n",
       "    </tr>\n",
       "  </thead>\n",
       "  <tbody>\n",
       "    <tr>\n",
       "      <th>0</th>\n",
       "      <td>666020888022790149</td>\n",
       "      <td>https://pbs.twimg.com/media/CT4udn0WwAA0aMy.jpg</td>\n",
       "      <td>1</td>\n",
       "      <td>Welsh_springer_spaniel</td>\n",
       "      <td>0.465074</td>\n",
       "      <td>True</td>\n",
       "      <td>collie</td>\n",
       "      <td>0.156665</td>\n",
       "      <td>True</td>\n",
       "      <td>Shetland_sheepdog</td>\n",
       "      <td>0.061428</td>\n",
       "      <td>True</td>\n",
       "    </tr>\n",
       "    <tr>\n",
       "      <th>1</th>\n",
       "      <td>666029285002620928</td>\n",
       "      <td>https://pbs.twimg.com/media/CT42GRgUYAA5iDo.jpg</td>\n",
       "      <td>1</td>\n",
       "      <td>redbone</td>\n",
       "      <td>0.506826</td>\n",
       "      <td>True</td>\n",
       "      <td>miniature_pinscher</td>\n",
       "      <td>0.074192</td>\n",
       "      <td>True</td>\n",
       "      <td>Rhodesian_ridgeback</td>\n",
       "      <td>0.072010</td>\n",
       "      <td>True</td>\n",
       "    </tr>\n",
       "    <tr>\n",
       "      <th>2</th>\n",
       "      <td>666033412701032449</td>\n",
       "      <td>https://pbs.twimg.com/media/CT4521TWwAEvMyu.jpg</td>\n",
       "      <td>1</td>\n",
       "      <td>German_shepherd</td>\n",
       "      <td>0.596461</td>\n",
       "      <td>True</td>\n",
       "      <td>malinois</td>\n",
       "      <td>0.138584</td>\n",
       "      <td>True</td>\n",
       "      <td>bloodhound</td>\n",
       "      <td>0.116197</td>\n",
       "      <td>True</td>\n",
       "    </tr>\n",
       "    <tr>\n",
       "      <th>3</th>\n",
       "      <td>666044226329800704</td>\n",
       "      <td>https://pbs.twimg.com/media/CT5Dr8HUEAA-lEu.jpg</td>\n",
       "      <td>1</td>\n",
       "      <td>Rhodesian_ridgeback</td>\n",
       "      <td>0.408143</td>\n",
       "      <td>True</td>\n",
       "      <td>redbone</td>\n",
       "      <td>0.360687</td>\n",
       "      <td>True</td>\n",
       "      <td>miniature_pinscher</td>\n",
       "      <td>0.222752</td>\n",
       "      <td>True</td>\n",
       "    </tr>\n",
       "    <tr>\n",
       "      <th>4</th>\n",
       "      <td>666049248165822465</td>\n",
       "      <td>https://pbs.twimg.com/media/CT5IQmsXIAAKY4A.jpg</td>\n",
       "      <td>1</td>\n",
       "      <td>miniature_pinscher</td>\n",
       "      <td>0.560311</td>\n",
       "      <td>True</td>\n",
       "      <td>Rottweiler</td>\n",
       "      <td>0.243682</td>\n",
       "      <td>True</td>\n",
       "      <td>Doberman</td>\n",
       "      <td>0.154629</td>\n",
       "      <td>True</td>\n",
       "    </tr>\n",
       "  </tbody>\n",
       "</table>\n",
       "</div>"
      ],
      "text/plain": [
       "             tweet_id                                          jpg_url  \\\n",
       "0  666020888022790149  https://pbs.twimg.com/media/CT4udn0WwAA0aMy.jpg   \n",
       "1  666029285002620928  https://pbs.twimg.com/media/CT42GRgUYAA5iDo.jpg   \n",
       "2  666033412701032449  https://pbs.twimg.com/media/CT4521TWwAEvMyu.jpg   \n",
       "3  666044226329800704  https://pbs.twimg.com/media/CT5Dr8HUEAA-lEu.jpg   \n",
       "4  666049248165822465  https://pbs.twimg.com/media/CT5IQmsXIAAKY4A.jpg   \n",
       "\n",
       "   img_num                      p1   p1_conf  p1_dog                  p2  \\\n",
       "0        1  Welsh_springer_spaniel  0.465074    True              collie   \n",
       "1        1                 redbone  0.506826    True  miniature_pinscher   \n",
       "2        1         German_shepherd  0.596461    True            malinois   \n",
       "3        1     Rhodesian_ridgeback  0.408143    True             redbone   \n",
       "4        1      miniature_pinscher  0.560311    True          Rottweiler   \n",
       "\n",
       "    p2_conf  p2_dog                   p3   p3_conf  p3_dog  \n",
       "0  0.156665    True    Shetland_sheepdog  0.061428    True  \n",
       "1  0.074192    True  Rhodesian_ridgeback  0.072010    True  \n",
       "2  0.138584    True           bloodhound  0.116197    True  \n",
       "3  0.360687    True   miniature_pinscher  0.222752    True  \n",
       "4  0.243682    True             Doberman  0.154629    True  "
      ]
     },
     "execution_count": 9,
     "metadata": {},
     "output_type": "execute_result"
    }
   ],
   "source": [
    "predictions.head()"
   ]
  },
  {
   "cell_type": "code",
   "execution_count": 14,
   "metadata": {},
   "outputs": [
    {
     "data": {
      "text/plain": [
       "2075"
      ]
     },
     "execution_count": 14,
     "metadata": {},
     "output_type": "execute_result"
    }
   ],
   "source": [
    "predictions['tweet_id'].nunique()"
   ]
  },
  {
   "cell_type": "code",
   "execution_count": 16,
   "metadata": {},
   "outputs": [
    {
     "data": {
      "text/plain": [
       "66"
      ]
     },
     "execution_count": 16,
     "metadata": {},
     "output_type": "execute_result"
    }
   ],
   "source": [
    "predictions['jpg_url'].duplicated().sum()"
   ]
  },
  {
   "cell_type": "code",
   "execution_count": 17,
   "metadata": {
    "scrolled": true
   },
   "outputs": [
    {
     "name": "stdout",
     "output_type": "stream",
     "text": [
      "<class 'pandas.core.frame.DataFrame'>\n",
      "RangeIndex: 3226 entries, 0 to 3225\n",
      "Data columns (total 32 columns):\n",
      "contributors                     0 non-null float64\n",
      "coordinates                      0 non-null float64\n",
      "created_at                       3226 non-null datetime64[ns]\n",
      "display_text_range               3226 non-null object\n",
      "entities                         3226 non-null object\n",
      "extended_entities                2795 non-null object\n",
      "favorite_count                   3226 non-null int64\n",
      "favorited                        3226 non-null bool\n",
      "full_text                        3226 non-null object\n",
      "geo                              0 non-null float64\n",
      "id                               3226 non-null int64\n",
      "id_str                           3226 non-null int64\n",
      "in_reply_to_screen_name          109 non-null object\n",
      "in_reply_to_status_id            109 non-null float64\n",
      "in_reply_to_status_id_str        109 non-null float64\n",
      "in_reply_to_user_id              109 non-null float64\n",
      "in_reply_to_user_id_str          109 non-null float64\n",
      "is_quote_status                  3226 non-null bool\n",
      "lang                             3226 non-null object\n",
      "place                            2 non-null object\n",
      "possibly_sensitive               2987 non-null float64\n",
      "possibly_sensitive_appealable    2987 non-null float64\n",
      "quoted_status                    44 non-null object\n",
      "quoted_status_id                 47 non-null float64\n",
      "quoted_status_id_str             47 non-null float64\n",
      "quoted_status_permalink          47 non-null object\n",
      "retweet_count                    3226 non-null int64\n",
      "retweeted                        3226 non-null bool\n",
      "retweeted_status                 322 non-null object\n",
      "source                           3226 non-null object\n",
      "truncated                        3226 non-null bool\n",
      "user                             3226 non-null object\n",
      "dtypes: bool(4), datetime64[ns](1), float64(11), int64(4), object(12)\n",
      "memory usage: 718.4+ KB\n"
     ]
    }
   ],
   "source": [
    "tweet_addition.info()"
   ]
  },
  {
   "cell_type": "code",
   "execution_count": 34,
   "metadata": {},
   "outputs": [
    {
     "data": {
      "text/html": [
       "<div>\n",
       "<style scoped>\n",
       "    .dataframe tbody tr th:only-of-type {\n",
       "        vertical-align: middle;\n",
       "    }\n",
       "\n",
       "    .dataframe tbody tr th {\n",
       "        vertical-align: top;\n",
       "    }\n",
       "\n",
       "    .dataframe thead th {\n",
       "        text-align: right;\n",
       "    }\n",
       "</style>\n",
       "<table border=\"1\" class=\"dataframe\">\n",
       "  <thead>\n",
       "    <tr style=\"text-align: right;\">\n",
       "      <th></th>\n",
       "      <th>contributors</th>\n",
       "      <th>coordinates</th>\n",
       "      <th>created_at</th>\n",
       "      <th>display_text_range</th>\n",
       "      <th>entities</th>\n",
       "      <th>extended_entities</th>\n",
       "      <th>favorite_count</th>\n",
       "      <th>favorited</th>\n",
       "      <th>full_text</th>\n",
       "      <th>geo</th>\n",
       "      <th>...</th>\n",
       "      <th>quoted_status</th>\n",
       "      <th>quoted_status_id</th>\n",
       "      <th>quoted_status_id_str</th>\n",
       "      <th>quoted_status_permalink</th>\n",
       "      <th>retweet_count</th>\n",
       "      <th>retweeted</th>\n",
       "      <th>retweeted_status</th>\n",
       "      <th>source</th>\n",
       "      <th>truncated</th>\n",
       "      <th>user</th>\n",
       "    </tr>\n",
       "  </thead>\n",
       "  <tbody>\n",
       "    <tr>\n",
       "      <th>0</th>\n",
       "      <td>NaN</td>\n",
       "      <td>NaN</td>\n",
       "      <td>2017-08-01 16:23:56</td>\n",
       "      <td>[0, 85]</td>\n",
       "      <td>{'hashtags': [], 'symbols': [], 'user_mentions...</td>\n",
       "      <td>{'media': [{'id': 892420639486877696, 'id_str'...</td>\n",
       "      <td>38093</td>\n",
       "      <td>False</td>\n",
       "      <td>This is Phineas. He's a mystical boy. Only eve...</td>\n",
       "      <td>NaN</td>\n",
       "      <td>...</td>\n",
       "      <td>NaN</td>\n",
       "      <td>NaN</td>\n",
       "      <td>NaN</td>\n",
       "      <td>NaN</td>\n",
       "      <td>8330</td>\n",
       "      <td>False</td>\n",
       "      <td>NaN</td>\n",
       "      <td>&lt;a href=\"http://twitter.com/download/iphone\" r...</td>\n",
       "      <td>False</td>\n",
       "      <td>{'id': 4196983835, 'id_str': '4196983835', 'na...</td>\n",
       "    </tr>\n",
       "    <tr>\n",
       "      <th>1</th>\n",
       "      <td>NaN</td>\n",
       "      <td>NaN</td>\n",
       "      <td>2017-08-01 00:17:27</td>\n",
       "      <td>[0, 138]</td>\n",
       "      <td>{'hashtags': [], 'symbols': [], 'user_mentions...</td>\n",
       "      <td>{'media': [{'id': 892177413194625024, 'id_str'...</td>\n",
       "      <td>32682</td>\n",
       "      <td>False</td>\n",
       "      <td>This is Tilly. She's just checking pup on you....</td>\n",
       "      <td>NaN</td>\n",
       "      <td>...</td>\n",
       "      <td>NaN</td>\n",
       "      <td>NaN</td>\n",
       "      <td>NaN</td>\n",
       "      <td>NaN</td>\n",
       "      <td>6154</td>\n",
       "      <td>False</td>\n",
       "      <td>NaN</td>\n",
       "      <td>&lt;a href=\"http://twitter.com/download/iphone\" r...</td>\n",
       "      <td>False</td>\n",
       "      <td>{'id': 4196983835, 'id_str': '4196983835', 'na...</td>\n",
       "    </tr>\n",
       "    <tr>\n",
       "      <th>2</th>\n",
       "      <td>NaN</td>\n",
       "      <td>NaN</td>\n",
       "      <td>2017-07-31 00:18:03</td>\n",
       "      <td>[0, 121]</td>\n",
       "      <td>{'hashtags': [], 'symbols': [], 'user_mentions...</td>\n",
       "      <td>{'media': [{'id': 891815175371796480, 'id_str'...</td>\n",
       "      <td>24596</td>\n",
       "      <td>False</td>\n",
       "      <td>This is Archie. He is a rare Norwegian Pouncin...</td>\n",
       "      <td>NaN</td>\n",
       "      <td>...</td>\n",
       "      <td>NaN</td>\n",
       "      <td>NaN</td>\n",
       "      <td>NaN</td>\n",
       "      <td>NaN</td>\n",
       "      <td>4072</td>\n",
       "      <td>False</td>\n",
       "      <td>NaN</td>\n",
       "      <td>&lt;a href=\"http://twitter.com/download/iphone\" r...</td>\n",
       "      <td>False</td>\n",
       "      <td>{'id': 4196983835, 'id_str': '4196983835', 'na...</td>\n",
       "    </tr>\n",
       "    <tr>\n",
       "      <th>3</th>\n",
       "      <td>NaN</td>\n",
       "      <td>NaN</td>\n",
       "      <td>2017-07-30 15:58:51</td>\n",
       "      <td>[0, 79]</td>\n",
       "      <td>{'hashtags': [], 'symbols': [], 'user_mentions...</td>\n",
       "      <td>{'media': [{'id': 891689552724799489, 'id_str'...</td>\n",
       "      <td>41452</td>\n",
       "      <td>False</td>\n",
       "      <td>This is Darla. She commenced a snooze mid meal...</td>\n",
       "      <td>NaN</td>\n",
       "      <td>...</td>\n",
       "      <td>NaN</td>\n",
       "      <td>NaN</td>\n",
       "      <td>NaN</td>\n",
       "      <td>NaN</td>\n",
       "      <td>8474</td>\n",
       "      <td>False</td>\n",
       "      <td>NaN</td>\n",
       "      <td>&lt;a href=\"http://twitter.com/download/iphone\" r...</td>\n",
       "      <td>False</td>\n",
       "      <td>{'id': 4196983835, 'id_str': '4196983835', 'na...</td>\n",
       "    </tr>\n",
       "    <tr>\n",
       "      <th>4</th>\n",
       "      <td>NaN</td>\n",
       "      <td>NaN</td>\n",
       "      <td>2017-07-29 16:00:24</td>\n",
       "      <td>[0, 138]</td>\n",
       "      <td>{'hashtags': [{'text': 'BarkWeek', 'indices': ...</td>\n",
       "      <td>{'media': [{'id': 891327551943041024, 'id_str'...</td>\n",
       "      <td>39624</td>\n",
       "      <td>False</td>\n",
       "      <td>This is Franklin. He would like you to stop ca...</td>\n",
       "      <td>NaN</td>\n",
       "      <td>...</td>\n",
       "      <td>NaN</td>\n",
       "      <td>NaN</td>\n",
       "      <td>NaN</td>\n",
       "      <td>NaN</td>\n",
       "      <td>9168</td>\n",
       "      <td>False</td>\n",
       "      <td>NaN</td>\n",
       "      <td>&lt;a href=\"http://twitter.com/download/iphone\" r...</td>\n",
       "      <td>False</td>\n",
       "      <td>{'id': 4196983835, 'id_str': '4196983835', 'na...</td>\n",
       "    </tr>\n",
       "  </tbody>\n",
       "</table>\n",
       "<p>5 rows × 32 columns</p>\n",
       "</div>"
      ],
      "text/plain": [
       "   contributors  coordinates          created_at display_text_range  \\\n",
       "0           NaN          NaN 2017-08-01 16:23:56            [0, 85]   \n",
       "1           NaN          NaN 2017-08-01 00:17:27           [0, 138]   \n",
       "2           NaN          NaN 2017-07-31 00:18:03           [0, 121]   \n",
       "3           NaN          NaN 2017-07-30 15:58:51            [0, 79]   \n",
       "4           NaN          NaN 2017-07-29 16:00:24           [0, 138]   \n",
       "\n",
       "                                            entities  \\\n",
       "0  {'hashtags': [], 'symbols': [], 'user_mentions...   \n",
       "1  {'hashtags': [], 'symbols': [], 'user_mentions...   \n",
       "2  {'hashtags': [], 'symbols': [], 'user_mentions...   \n",
       "3  {'hashtags': [], 'symbols': [], 'user_mentions...   \n",
       "4  {'hashtags': [{'text': 'BarkWeek', 'indices': ...   \n",
       "\n",
       "                                   extended_entities  favorite_count  \\\n",
       "0  {'media': [{'id': 892420639486877696, 'id_str'...           38093   \n",
       "1  {'media': [{'id': 892177413194625024, 'id_str'...           32682   \n",
       "2  {'media': [{'id': 891815175371796480, 'id_str'...           24596   \n",
       "3  {'media': [{'id': 891689552724799489, 'id_str'...           41452   \n",
       "4  {'media': [{'id': 891327551943041024, 'id_str'...           39624   \n",
       "\n",
       "   favorited                                          full_text  geo  \\\n",
       "0      False  This is Phineas. He's a mystical boy. Only eve...  NaN   \n",
       "1      False  This is Tilly. She's just checking pup on you....  NaN   \n",
       "2      False  This is Archie. He is a rare Norwegian Pouncin...  NaN   \n",
       "3      False  This is Darla. She commenced a snooze mid meal...  NaN   \n",
       "4      False  This is Franklin. He would like you to stop ca...  NaN   \n",
       "\n",
       "                         ...                          quoted_status  \\\n",
       "0                        ...                                    NaN   \n",
       "1                        ...                                    NaN   \n",
       "2                        ...                                    NaN   \n",
       "3                        ...                                    NaN   \n",
       "4                        ...                                    NaN   \n",
       "\n",
       "   quoted_status_id quoted_status_id_str  quoted_status_permalink  \\\n",
       "0               NaN                  NaN                      NaN   \n",
       "1               NaN                  NaN                      NaN   \n",
       "2               NaN                  NaN                      NaN   \n",
       "3               NaN                  NaN                      NaN   \n",
       "4               NaN                  NaN                      NaN   \n",
       "\n",
       "   retweet_count  retweeted  retweeted_status  \\\n",
       "0           8330      False               NaN   \n",
       "1           6154      False               NaN   \n",
       "2           4072      False               NaN   \n",
       "3           8474      False               NaN   \n",
       "4           9168      False               NaN   \n",
       "\n",
       "                                              source truncated  \\\n",
       "0  <a href=\"http://twitter.com/download/iphone\" r...     False   \n",
       "1  <a href=\"http://twitter.com/download/iphone\" r...     False   \n",
       "2  <a href=\"http://twitter.com/download/iphone\" r...     False   \n",
       "3  <a href=\"http://twitter.com/download/iphone\" r...     False   \n",
       "4  <a href=\"http://twitter.com/download/iphone\" r...     False   \n",
       "\n",
       "                                                user  \n",
       "0  {'id': 4196983835, 'id_str': '4196983835', 'na...  \n",
       "1  {'id': 4196983835, 'id_str': '4196983835', 'na...  \n",
       "2  {'id': 4196983835, 'id_str': '4196983835', 'na...  \n",
       "3  {'id': 4196983835, 'id_str': '4196983835', 'na...  \n",
       "4  {'id': 4196983835, 'id_str': '4196983835', 'na...  \n",
       "\n",
       "[5 rows x 32 columns]"
      ]
     },
     "execution_count": 34,
     "metadata": {},
     "output_type": "execute_result"
    }
   ],
   "source": [
    "tweet_addition.head()"
   ]
  },
  {
   "cell_type": "code",
   "execution_count": 33,
   "metadata": {
    "scrolled": true
   },
   "outputs": [
    {
     "data": {
      "text/plain": [
       "886"
      ]
     },
     "execution_count": 33,
     "metadata": {},
     "output_type": "execute_result"
    }
   ],
   "source": [
    "tweet_addition['id'].duplicated().sum()"
   ]
  },
  {
   "cell_type": "markdown",
   "metadata": {},
   "source": [
    "### Tidiness\n",
    "\n",
    "- Merge all three DataFrames into one \n",
    "<br><br>\n",
    "- Melt doggo, puppo, etc. into one column `dog_category`"
   ]
  },
  {
   "cell_type": "markdown",
   "metadata": {},
   "source": [
    "### Quality\n",
    "\n",
    "- Delete retweets and replies in `archive`\n",
    "<br><br>\n",
    "- Replace missing URLs in `expanded_urls`\n",
    "<br><br>\n",
    "- Delete invalid names like 'a', 'the', etc. in `archive` or find a way to replace them properly\n",
    "<br><br>\n",
    "- Delete duplicate IDs in `tweet_addition`\n",
    "<br><br>\n",
    "- Delete duplicate jpg_urls in `predictions`\n",
    "<br><br>\n",
    "- Drop unneccessary columns\n",
    "<br><br>\n",
    "- Some datatypes are messed up e.g. timestamp should be datetime\n",
    "<br><br>\n",
    "- Some pictures are not from dogs, use `predictions` to find and delete them\n",
    "<br><br>\n",
    "- Create a single rating column out of `rating_numerator` and `rating_denominator`"
   ]
  },
  {
   "cell_type": "markdown",
   "metadata": {},
   "source": [
    "<a id='clean'></a>\n",
    "# Clean\n",
    "\n",
    "Note: order: missing data, tidiness then quality issues"
   ]
  },
  {
   "cell_type": "code",
   "execution_count": 4,
   "metadata": {},
   "outputs": [],
   "source": [
    "archive_clean = archive.copy()\n",
    "predictions_clean = predictions.copy()\n",
    "tweet_addition_clean = tweet_addition.copy()"
   ]
  },
  {
   "cell_type": "markdown",
   "metadata": {},
   "source": [
    "**1. Define**<br>\n",
    "Delete all tweets that are retweets or responses. Use pandas .isnull to detect all missing entries in `retweeted_status_user_id`, `in_reply_to_user_id` and only keep the tweets that don't have an entry. <br>Delete all columns (`in_reply_to_user_id`, `in_reply_to_status_id`, `retweeted_status_user_id`, `in_reply_to_user_id`, `retweeted_status_timestamp`) with information about retweets and replies after."
   ]
  },
  {
   "cell_type": "markdown",
   "metadata": {},
   "source": [
    "**Code**"
   ]
  },
  {
   "cell_type": "code",
   "execution_count": 5,
   "metadata": {},
   "outputs": [],
   "source": [
    "archive_clean = archive_clean[archive_clean.retweeted_status_user_id.isnull()]\n",
    "archive_clean = archive_clean[archive_clean.in_reply_to_user_id.isnull()]\n",
    "archive_clean.drop(['in_reply_to_user_id', \n",
    "         'in_reply_to_status_id', \n",
    "         'retweeted_status_id', \n",
    "         'retweeted_status_user_id', \n",
    "         'retweeted_status_timestamp'], inplace=True, axis=1)"
   ]
  },
  {
   "cell_type": "markdown",
   "metadata": {},
   "source": [
    "**Test**"
   ]
  },
  {
   "cell_type": "code",
   "execution_count": 6,
   "metadata": {
    "scrolled": false
   },
   "outputs": [
    {
     "name": "stdout",
     "output_type": "stream",
     "text": [
      "<class 'pandas.core.frame.DataFrame'>\n",
      "Int64Index: 2097 entries, 0 to 2355\n",
      "Data columns (total 12 columns):\n",
      "tweet_id              2097 non-null int64\n",
      "timestamp             2097 non-null object\n",
      "source                2097 non-null object\n",
      "text                  2097 non-null object\n",
      "expanded_urls         2094 non-null object\n",
      "rating_numerator      2097 non-null int64\n",
      "rating_denominator    2097 non-null int64\n",
      "name                  2097 non-null object\n",
      "doggo                 2097 non-null object\n",
      "floofer               2097 non-null object\n",
      "pupper                2097 non-null object\n",
      "puppo                 2097 non-null object\n",
      "dtypes: int64(3), object(9)\n",
      "memory usage: 213.0+ KB\n"
     ]
    }
   ],
   "source": [
    "archive_clean.info()"
   ]
  },
  {
   "cell_type": "markdown",
   "metadata": {},
   "source": [
    "**2. Define**<br>\n",
    "Replace `doggo`, `floofer`, `pupper`, `puppo` with one column called `dog_category`."
   ]
  },
  {
   "cell_type": "markdown",
   "metadata": {},
   "source": [
    "**Code**"
   ]
  },
  {
   "cell_type": "code",
   "execution_count": 13,
   "metadata": {},
   "outputs": [],
   "source": [
    "categories = ['doggo', 'floofer', 'puppo', 'pupper']\n",
    "\n",
    "def combined_categories(row):\n",
    "    combined_category = ''\n",
    "    for category in categories:\n",
    "        if row[category] != 'None':\n",
    "            if combined_category != '':\n",
    "                combined_category += ','\n",
    "            \n",
    "            combined_category += row[category]\n",
    "    if combined_category == '':\n",
    "        combined_category = 'None'\n",
    "    return combined_category\n",
    "\n",
    "archive_clean['dog_category'] = archive_clean.loc[:, 'doggo':'puppo'].apply(lambda x: combined_categories(x), axis=1)"
   ]
  },
  {
   "cell_type": "markdown",
   "metadata": {},
   "source": [
    "**Test**"
   ]
  },
  {
   "cell_type": "code",
   "execution_count": 14,
   "metadata": {
    "scrolled": false
   },
   "outputs": [
    {
     "data": {
      "text/plain": [
       "None             1761\n",
       "pupper            221\n",
       "doggo              72\n",
       "puppo              23\n",
       "doggo,pupper        9\n",
       "floofer             9\n",
       "doggo,floofer       1\n",
       "doggo,puppo         1\n",
       "Name: dog_category, dtype: int64"
      ]
     },
     "execution_count": 14,
     "metadata": {},
     "output_type": "execute_result"
    }
   ],
   "source": [
    "archive_clean['dog_category'].value_counts()"
   ]
  },
  {
   "cell_type": "markdown",
   "metadata": {},
   "source": [
    "**3. Define**<br>\n",
    "Define a function that replaces missing entries in `expanded_urls` with a generated one using `tweet_id`. "
   ]
  },
  {
   "cell_type": "markdown",
   "metadata": {},
   "source": [
    "**Code**"
   ]
  },
  {
   "cell_type": "code",
   "execution_count": 15,
   "metadata": {},
   "outputs": [],
   "source": [
    "def generate_url(row):\n",
    "    #check for NaN entries and replace them with the twitter URL and add the tweet_id\n",
    "    if pd.isnull(row['expanded_urls']):\n",
    "        id = row['tweet_id']\n",
    "        row['expanded_urls'] = 'https://twitter.com/dog_rates/status/{}'.format(id)\n",
    "        return row   \n",
    "    else:\n",
    "        return row\n",
    "\n",
    "archive_clean = archive_clean.apply(generate_url, axis=1)"
   ]
  },
  {
   "cell_type": "markdown",
   "metadata": {},
   "source": [
    "**Test**"
   ]
  },
  {
   "cell_type": "code",
   "execution_count": 16,
   "metadata": {
    "scrolled": true
   },
   "outputs": [
    {
     "data": {
      "text/html": [
       "<div>\n",
       "<style scoped>\n",
       "    .dataframe tbody tr th:only-of-type {\n",
       "        vertical-align: middle;\n",
       "    }\n",
       "\n",
       "    .dataframe tbody tr th {\n",
       "        vertical-align: top;\n",
       "    }\n",
       "\n",
       "    .dataframe thead th {\n",
       "        text-align: right;\n",
       "    }\n",
       "</style>\n",
       "<table border=\"1\" class=\"dataframe\">\n",
       "  <thead>\n",
       "    <tr style=\"text-align: right;\">\n",
       "      <th></th>\n",
       "      <th>tweet_id</th>\n",
       "      <th>timestamp</th>\n",
       "      <th>source</th>\n",
       "      <th>text</th>\n",
       "      <th>expanded_urls</th>\n",
       "      <th>rating_numerator</th>\n",
       "      <th>rating_denominator</th>\n",
       "      <th>name</th>\n",
       "      <th>doggo</th>\n",
       "      <th>floofer</th>\n",
       "      <th>pupper</th>\n",
       "      <th>puppo</th>\n",
       "      <th>dog_category</th>\n",
       "    </tr>\n",
       "  </thead>\n",
       "  <tbody>\n",
       "  </tbody>\n",
       "</table>\n",
       "</div>"
      ],
      "text/plain": [
       "Empty DataFrame\n",
       "Columns: [tweet_id, timestamp, source, text, expanded_urls, rating_numerator, rating_denominator, name, doggo, floofer, pupper, puppo, dog_category]\n",
       "Index: []"
      ]
     },
     "execution_count": 16,
     "metadata": {},
     "output_type": "execute_result"
    }
   ],
   "source": [
    "archive_clean[archive_clean['expanded_urls'].isnull()]"
   ]
  },
  {
   "cell_type": "code",
   "execution_count": 17,
   "metadata": {},
   "outputs": [
    {
     "name": "stdout",
     "output_type": "stream",
     "text": [
      "<class 'pandas.core.frame.DataFrame'>\n",
      "Int64Index: 2097 entries, 689 to 2355\n",
      "Data columns (total 13 columns):\n",
      "tweet_id              2097 non-null int64\n",
      "timestamp             2097 non-null object\n",
      "source                2097 non-null object\n",
      "text                  2097 non-null object\n",
      "expanded_urls         2097 non-null object\n",
      "rating_numerator      2097 non-null int64\n",
      "rating_denominator    2097 non-null int64\n",
      "name                  2097 non-null object\n",
      "doggo                 2097 non-null object\n",
      "floofer               2097 non-null object\n",
      "pupper                2097 non-null object\n",
      "puppo                 2097 non-null object\n",
      "dog_category          2097 non-null object\n",
      "dtypes: int64(3), object(10)\n",
      "memory usage: 229.4+ KB\n"
     ]
    }
   ],
   "source": [
    "archive_clean.info()"
   ]
  },
  {
   "cell_type": "markdown",
   "metadata": {},
   "source": [
    "**4. Define**<br>\n",
    "`Name`has invalid entries like: 'a', 'the', 'an', etc. During assessment it was obvious that the invalid entries are all lowercase. Use pandas .islower function to detect those entries and .istitle to delete them from the DataFrame for now. I don't have a way to fill in the missing names, without additional information from @WeRateDogs."
   ]
  },
  {
   "cell_type": "markdown",
   "metadata": {},
   "source": [
    "**Code**"
   ]
  },
  {
   "cell_type": "code",
   "execution_count": 18,
   "metadata": {},
   "outputs": [],
   "source": [
    "archive_clean = archive_clean[archive_clean['name'].str.istitle()]"
   ]
  },
  {
   "cell_type": "markdown",
   "metadata": {},
   "source": [
    "**Test**"
   ]
  },
  {
   "cell_type": "code",
   "execution_count": 19,
   "metadata": {
    "scrolled": true
   },
   "outputs": [
    {
     "data": {
      "text/html": [
       "<div>\n",
       "<style scoped>\n",
       "    .dataframe tbody tr th:only-of-type {\n",
       "        vertical-align: middle;\n",
       "    }\n",
       "\n",
       "    .dataframe tbody tr th {\n",
       "        vertical-align: top;\n",
       "    }\n",
       "\n",
       "    .dataframe thead th {\n",
       "        text-align: right;\n",
       "    }\n",
       "</style>\n",
       "<table border=\"1\" class=\"dataframe\">\n",
       "  <thead>\n",
       "    <tr style=\"text-align: right;\">\n",
       "      <th></th>\n",
       "      <th>tweet_id</th>\n",
       "      <th>timestamp</th>\n",
       "      <th>source</th>\n",
       "      <th>text</th>\n",
       "      <th>expanded_urls</th>\n",
       "      <th>rating_numerator</th>\n",
       "      <th>rating_denominator</th>\n",
       "      <th>name</th>\n",
       "      <th>doggo</th>\n",
       "      <th>floofer</th>\n",
       "      <th>pupper</th>\n",
       "      <th>puppo</th>\n",
       "      <th>dog_category</th>\n",
       "    </tr>\n",
       "  </thead>\n",
       "  <tbody>\n",
       "  </tbody>\n",
       "</table>\n",
       "</div>"
      ],
      "text/plain": [
       "Empty DataFrame\n",
       "Columns: [tweet_id, timestamp, source, text, expanded_urls, rating_numerator, rating_denominator, name, doggo, floofer, pupper, puppo, dog_category]\n",
       "Index: []"
      ]
     },
     "execution_count": 19,
     "metadata": {},
     "output_type": "execute_result"
    }
   ],
   "source": [
    "archive_clean[archive_clean['name'].str.islower()]"
   ]
  },
  {
   "cell_type": "code",
   "execution_count": 20,
   "metadata": {},
   "outputs": [
    {
     "name": "stdout",
     "output_type": "stream",
     "text": [
      "<class 'pandas.core.frame.DataFrame'>\n",
      "Int64Index: 1987 entries, 689 to 2355\n",
      "Data columns (total 13 columns):\n",
      "tweet_id              1987 non-null int64\n",
      "timestamp             1987 non-null object\n",
      "source                1987 non-null object\n",
      "text                  1987 non-null object\n",
      "expanded_urls         1987 non-null object\n",
      "rating_numerator      1987 non-null int64\n",
      "rating_denominator    1987 non-null int64\n",
      "name                  1987 non-null object\n",
      "doggo                 1987 non-null object\n",
      "floofer               1987 non-null object\n",
      "pupper                1987 non-null object\n",
      "puppo                 1987 non-null object\n",
      "dog_category          1987 non-null object\n",
      "dtypes: int64(3), object(10)\n",
      "memory usage: 217.3+ KB\n"
     ]
    }
   ],
   "source": [
    "archive_clean.info()"
   ]
  },
  {
   "cell_type": "markdown",
   "metadata": {},
   "source": [
    "**5. Define**<br>\n",
    "Delete duplicate `id` in `tweet_addition_clean`.\n",
    "Delete duplicate `jpg_url` in `predictions_clean`."
   ]
  },
  {
   "cell_type": "markdown",
   "metadata": {},
   "source": [
    "**Code**"
   ]
  },
  {
   "cell_type": "code",
   "execution_count": 21,
   "metadata": {},
   "outputs": [],
   "source": [
    "#I found a nifty way to drop duplicates and keep the ones with the most information in them on stackoverflow (link in sources)\n",
    "#First we make a new column that counts the .isnull in a row\n",
    "tweet_addition_clean['count'] = pd.isnull(tweet_addition_clean).sum(1)\n",
    "predictions_clean['count'] = pd.isnull(predictions_clean).sum(1)\n",
    "\n",
    "#Then I use the new count column to sort the table before dropping duplicates\n",
    "tweet_addition_clean = tweet_addition_clean.sort_values(['count']).drop_duplicates(subset=['id'], keep='first').drop('count', 1)\n",
    "predictions_clean = predictions_clean.sort_values(['count']).drop_duplicates(subset=['jpg_url'], keep='first').drop('count', 1)"
   ]
  },
  {
   "cell_type": "markdown",
   "metadata": {},
   "source": [
    "**Test**"
   ]
  },
  {
   "cell_type": "code",
   "execution_count": 22,
   "metadata": {},
   "outputs": [
    {
     "data": {
      "text/html": [
       "<div>\n",
       "<style scoped>\n",
       "    .dataframe tbody tr th:only-of-type {\n",
       "        vertical-align: middle;\n",
       "    }\n",
       "\n",
       "    .dataframe tbody tr th {\n",
       "        vertical-align: top;\n",
       "    }\n",
       "\n",
       "    .dataframe thead th {\n",
       "        text-align: right;\n",
       "    }\n",
       "</style>\n",
       "<table border=\"1\" class=\"dataframe\">\n",
       "  <thead>\n",
       "    <tr style=\"text-align: right;\">\n",
       "      <th></th>\n",
       "      <th>tweet_id</th>\n",
       "      <th>jpg_url</th>\n",
       "      <th>img_num</th>\n",
       "      <th>p1</th>\n",
       "      <th>p1_conf</th>\n",
       "      <th>p1_dog</th>\n",
       "      <th>p2</th>\n",
       "      <th>p2_conf</th>\n",
       "      <th>p2_dog</th>\n",
       "      <th>p3</th>\n",
       "      <th>p3_conf</th>\n",
       "      <th>p3_dog</th>\n",
       "    </tr>\n",
       "  </thead>\n",
       "  <tbody>\n",
       "  </tbody>\n",
       "</table>\n",
       "</div>"
      ],
      "text/plain": [
       "Empty DataFrame\n",
       "Columns: [tweet_id, jpg_url, img_num, p1, p1_conf, p1_dog, p2, p2_conf, p2_dog, p3, p3_conf, p3_dog]\n",
       "Index: []"
      ]
     },
     "execution_count": 22,
     "metadata": {},
     "output_type": "execute_result"
    }
   ],
   "source": [
    "tweet_addition_clean[tweet_addition_clean['id'].duplicated()]\n",
    "predictions_clean[predictions_clean['jpg_url'].duplicated()]"
   ]
  },
  {
   "cell_type": "markdown",
   "metadata": {},
   "source": [
    "**6. Define**<br>\n",
    "Rename `id` in `tweet_addition` to `tweet_id` and 'inner' (we only want the IDs that are represented in all three DataFrames) merge all three dataframes to create on huge chunk that can be cut down. I need to perform two merges since I chose an inner merge."
   ]
  },
  {
   "cell_type": "markdown",
   "metadata": {},
   "source": [
    "**Code**"
   ]
  },
  {
   "cell_type": "code",
   "execution_count": 23,
   "metadata": {
    "scrolled": true
   },
   "outputs": [],
   "source": [
    "tweet_addition_clean = tweet_addition_clean.rename(columns={'id' : 'tweet_id'})\n",
    "\n",
    "df = pd.merge(archive_clean, predictions_clean, on='tweet_id', how='inner')\n",
    "df = pd.merge(df, tweet_addition_clean, on='tweet_id', how='inner')"
   ]
  },
  {
   "cell_type": "markdown",
   "metadata": {},
   "source": [
    "**Test**"
   ]
  },
  {
   "cell_type": "code",
   "execution_count": 24,
   "metadata": {
    "scrolled": true
   },
   "outputs": [
    {
     "name": "stdout",
     "output_type": "stream",
     "text": [
      "<class 'pandas.core.frame.DataFrame'>\n",
      "Int64Index: 1830 entries, 0 to 1829\n",
      "Data columns (total 55 columns):\n",
      "tweet_id                         1830 non-null int64\n",
      "timestamp                        1830 non-null object\n",
      "source_x                         1830 non-null object\n",
      "text                             1830 non-null object\n",
      "expanded_urls                    1830 non-null object\n",
      "rating_numerator                 1830 non-null int64\n",
      "rating_denominator               1830 non-null int64\n",
      "name                             1830 non-null object\n",
      "doggo                            1830 non-null object\n",
      "floofer                          1830 non-null object\n",
      "pupper                           1830 non-null object\n",
      "puppo                            1830 non-null object\n",
      "dog_category                     1830 non-null object\n",
      "jpg_url                          1830 non-null object\n",
      "img_num                          1830 non-null int64\n",
      "p1                               1830 non-null object\n",
      "p1_conf                          1830 non-null float64\n",
      "p1_dog                           1830 non-null bool\n",
      "p2                               1830 non-null object\n",
      "p2_conf                          1830 non-null float64\n",
      "p2_dog                           1830 non-null bool\n",
      "p3                               1830 non-null object\n",
      "p3_conf                          1830 non-null float64\n",
      "p3_dog                           1830 non-null bool\n",
      "contributors                     0 non-null float64\n",
      "coordinates                      0 non-null float64\n",
      "created_at                       1830 non-null datetime64[ns]\n",
      "display_text_range               1830 non-null object\n",
      "entities                         1830 non-null object\n",
      "extended_entities                1830 non-null object\n",
      "favorite_count                   1830 non-null int64\n",
      "favorited                        1830 non-null bool\n",
      "full_text                        1830 non-null object\n",
      "geo                              0 non-null float64\n",
      "id_str                           1830 non-null int64\n",
      "in_reply_to_screen_name          0 non-null object\n",
      "in_reply_to_status_id            0 non-null float64\n",
      "in_reply_to_status_id_str        0 non-null float64\n",
      "in_reply_to_user_id              0 non-null float64\n",
      "in_reply_to_user_id_str          0 non-null float64\n",
      "is_quote_status                  1830 non-null bool\n",
      "lang                             1830 non-null object\n",
      "place                            1 non-null object\n",
      "possibly_sensitive               1830 non-null float64\n",
      "possibly_sensitive_appealable    1830 non-null float64\n",
      "quoted_status                    0 non-null object\n",
      "quoted_status_id                 0 non-null float64\n",
      "quoted_status_id_str             0 non-null float64\n",
      "quoted_status_permalink          0 non-null object\n",
      "retweet_count                    1830 non-null int64\n",
      "retweeted                        1830 non-null bool\n",
      "retweeted_status                 0 non-null object\n",
      "source_y                         1830 non-null object\n",
      "truncated                        1830 non-null bool\n",
      "user                             1830 non-null object\n",
      "dtypes: bool(7), datetime64[ns](1), float64(14), int64(7), object(26)\n",
      "memory usage: 713.1+ KB\n"
     ]
    }
   ],
   "source": [
    "df.info()"
   ]
  },
  {
   "cell_type": "markdown",
   "metadata": {},
   "source": [
    "**7. Define**<br>\n",
    "Drop all the unnecessary columns: source_x, coordinates, created_at, display_text_range, entities, extended_entities, geo, id_str, in_reply_to_screen_name, in_reply_to_status_id, in_reply_to_status_id_str, in_reply_to_user_id, in_reply_to_user_id_str, is_quote_status, lang, place, possibly_sensitive, possibly_sensitive_appealable, quoted_status, quoted_status_id, quoted_status_id_str, quoted_status_permalink, source_y, truncated, user."
   ]
  },
  {
   "cell_type": "markdown",
   "metadata": {},
   "source": [
    "**Code**"
   ]
  },
  {
   "cell_type": "code",
   "execution_count": 25,
   "metadata": {},
   "outputs": [],
   "source": [
    "df = df.drop(['source_x', \n",
    "         'coordinates', \n",
    "         'created_at', \n",
    "         'display_text_range', \n",
    "         'entities', \n",
    "         'extended_entities', \n",
    "         'geo', \n",
    "         'id_str', \n",
    "         'in_reply_to_screen_name', \n",
    "         'in_reply_to_status_id', \n",
    "         'in_reply_to_status_id_str', \n",
    "         'in_reply_to_user_id', \n",
    "         'in_reply_to_user_id_str', \n",
    "         'is_quote_status', \n",
    "         'lang', \n",
    "         'place', \n",
    "         'possibly_sensitive', \n",
    "         'possibly_sensitive_appealable', \n",
    "         'quoted_status', 'quoted_status_id', \n",
    "         'quoted_status_id_str', \n",
    "         'quoted_status_permalink', \n",
    "         'source_y', \n",
    "         'truncated', \n",
    "         'user', \n",
    "         'retweeted', \n",
    "         'retweeted_status', \n",
    "              'contributors', 'favorited'], axis=1)"
   ]
  },
  {
   "cell_type": "markdown",
   "metadata": {},
   "source": [
    "**Test**"
   ]
  },
  {
   "cell_type": "code",
   "execution_count": 26,
   "metadata": {},
   "outputs": [
    {
     "name": "stdout",
     "output_type": "stream",
     "text": [
      "<class 'pandas.core.frame.DataFrame'>\n",
      "Int64Index: 1830 entries, 0 to 1829\n",
      "Data columns (total 26 columns):\n",
      "tweet_id              1830 non-null int64\n",
      "timestamp             1830 non-null object\n",
      "text                  1830 non-null object\n",
      "expanded_urls         1830 non-null object\n",
      "rating_numerator      1830 non-null int64\n",
      "rating_denominator    1830 non-null int64\n",
      "name                  1830 non-null object\n",
      "doggo                 1830 non-null object\n",
      "floofer               1830 non-null object\n",
      "pupper                1830 non-null object\n",
      "puppo                 1830 non-null object\n",
      "dog_category          1830 non-null object\n",
      "jpg_url               1830 non-null object\n",
      "img_num               1830 non-null int64\n",
      "p1                    1830 non-null object\n",
      "p1_conf               1830 non-null float64\n",
      "p1_dog                1830 non-null bool\n",
      "p2                    1830 non-null object\n",
      "p2_conf               1830 non-null float64\n",
      "p2_dog                1830 non-null bool\n",
      "p3                    1830 non-null object\n",
      "p3_conf               1830 non-null float64\n",
      "p3_dog                1830 non-null bool\n",
      "favorite_count        1830 non-null int64\n",
      "full_text             1830 non-null object\n",
      "retweet_count         1830 non-null int64\n",
      "dtypes: bool(3), float64(3), int64(6), object(14)\n",
      "memory usage: 348.5+ KB\n"
     ]
    }
   ],
   "source": [
    "df.info()"
   ]
  },
  {
   "cell_type": "markdown",
   "metadata": {},
   "source": [
    "**8. Define**<br>\n",
    "Some datatypes are not correct. Tweet_id shoulb be string, timestamp datetime, dog_category category, rating_numerator and denominator float, p1/2/3 category and p1/2/3_dog boolean."
   ]
  },
  {
   "cell_type": "markdown",
   "metadata": {},
   "source": [
    "**Code**"
   ]
  },
  {
   "cell_type": "code",
   "execution_count": 27,
   "metadata": {},
   "outputs": [],
   "source": [
    "df.tweet_id = df.tweet_id.astype('str')\n",
    "df.timestamp = pd.to_datetime(df.timestamp)\n",
    "df.dog_category = df.dog_category.astype('category')\n",
    "df.rating_numerator = df.rating_numerator.astype('float')\n",
    "df.rating_denominator = df.rating_denominator.astype('float')\n",
    "df.p1 = df.p1.astype('category')\n",
    "df.p2 = df.p2.astype('category')\n",
    "df.p3 = df.p3.astype('category')\n",
    "df.p1_dog = df.p1_dog.astype('bool')\n",
    "df.p2_dog = df.p2_dog.astype('bool')\n",
    "df.p3_dog = df.p3_dog.astype('bool')"
   ]
  },
  {
   "cell_type": "markdown",
   "metadata": {},
   "source": [
    "**Test**"
   ]
  },
  {
   "cell_type": "code",
   "execution_count": 28,
   "metadata": {
    "scrolled": true
   },
   "outputs": [
    {
     "name": "stdout",
     "output_type": "stream",
     "text": [
      "<class 'pandas.core.frame.DataFrame'>\n",
      "Int64Index: 1830 entries, 0 to 1829\n",
      "Data columns (total 26 columns):\n",
      "tweet_id              1830 non-null object\n",
      "timestamp             1830 non-null datetime64[ns]\n",
      "text                  1830 non-null object\n",
      "expanded_urls         1830 non-null object\n",
      "rating_numerator      1830 non-null float64\n",
      "rating_denominator    1830 non-null float64\n",
      "name                  1830 non-null object\n",
      "doggo                 1830 non-null object\n",
      "floofer               1830 non-null object\n",
      "pupper                1830 non-null object\n",
      "puppo                 1830 non-null object\n",
      "dog_category          1830 non-null category\n",
      "jpg_url               1830 non-null object\n",
      "img_num               1830 non-null int64\n",
      "p1                    1830 non-null category\n",
      "p1_conf               1830 non-null float64\n",
      "p1_dog                1830 non-null bool\n",
      "p2                    1830 non-null category\n",
      "p2_conf               1830 non-null float64\n",
      "p2_dog                1830 non-null bool\n",
      "p3                    1830 non-null category\n",
      "p3_conf               1830 non-null float64\n",
      "p3_dog                1830 non-null bool\n",
      "favorite_count        1830 non-null int64\n",
      "full_text             1830 non-null object\n",
      "retweet_count         1830 non-null int64\n",
      "dtypes: bool(3), category(4), datetime64[ns](1), float64(5), int64(3), object(10)\n",
      "memory usage: 343.0+ KB\n"
     ]
    }
   ],
   "source": [
    "df.info()"
   ]
  },
  {
   "cell_type": "markdown",
   "metadata": {},
   "source": [
    "**9. Define**<br>\n",
    "Delete tweet that don't have a dog picture in them. Use `p1_dog`, `p1_dog` and `p1_dog` to detect where the neural network did not see a dog and save those tweet to a list. Use the list to iterate through the DataFrame and drop the row. "
   ]
  },
  {
   "cell_type": "markdown",
   "metadata": {},
   "source": [
    "**Code**"
   ]
  },
  {
   "cell_type": "code",
   "execution_count": 29,
   "metadata": {},
   "outputs": [],
   "source": [
    "#some picture have a dog in them, but the neural network did not detect it properly\n",
    "#I use the dog_category to detect at least some dogs, I could also iterate through the text\n",
    "#but I doubt the precision of the manual iteration for certain expressions\n",
    "#is high enough to make a valid statement in the end\n",
    "df = df.drop(df[(df['p1_dog'] == False) & (df['p2_dog'] == False) & (df['p3_dog'] == False) & (df['dog_category'].isnull())].index)"
   ]
  },
  {
   "cell_type": "markdown",
   "metadata": {},
   "source": [
    "**Test**"
   ]
  },
  {
   "cell_type": "code",
   "execution_count": 30,
   "metadata": {
    "scrolled": false
   },
   "outputs": [
    {
     "data": {
      "text/html": [
       "<div>\n",
       "<style scoped>\n",
       "    .dataframe tbody tr th:only-of-type {\n",
       "        vertical-align: middle;\n",
       "    }\n",
       "\n",
       "    .dataframe tbody tr th {\n",
       "        vertical-align: top;\n",
       "    }\n",
       "\n",
       "    .dataframe thead th {\n",
       "        text-align: right;\n",
       "    }\n",
       "</style>\n",
       "<table border=\"1\" class=\"dataframe\">\n",
       "  <thead>\n",
       "    <tr style=\"text-align: right;\">\n",
       "      <th></th>\n",
       "      <th>tweet_id</th>\n",
       "      <th>timestamp</th>\n",
       "      <th>text</th>\n",
       "      <th>expanded_urls</th>\n",
       "      <th>rating_numerator</th>\n",
       "      <th>rating_denominator</th>\n",
       "      <th>name</th>\n",
       "      <th>doggo</th>\n",
       "      <th>floofer</th>\n",
       "      <th>pupper</th>\n",
       "      <th>...</th>\n",
       "      <th>p1_dog</th>\n",
       "      <th>p2</th>\n",
       "      <th>p2_conf</th>\n",
       "      <th>p2_dog</th>\n",
       "      <th>p3</th>\n",
       "      <th>p3_conf</th>\n",
       "      <th>p3_dog</th>\n",
       "      <th>favorite_count</th>\n",
       "      <th>full_text</th>\n",
       "      <th>retweet_count</th>\n",
       "    </tr>\n",
       "  </thead>\n",
       "  <tbody>\n",
       "  </tbody>\n",
       "</table>\n",
       "<p>0 rows × 26 columns</p>\n",
       "</div>"
      ],
      "text/plain": [
       "Empty DataFrame\n",
       "Columns: [tweet_id, timestamp, text, expanded_urls, rating_numerator, rating_denominator, name, doggo, floofer, pupper, puppo, dog_category, jpg_url, img_num, p1, p1_conf, p1_dog, p2, p2_conf, p2_dog, p3, p3_conf, p3_dog, favorite_count, full_text, retweet_count]\n",
       "Index: []\n",
       "\n",
       "[0 rows x 26 columns]"
      ]
     },
     "execution_count": 30,
     "metadata": {},
     "output_type": "execute_result"
    }
   ],
   "source": [
    "df[(df.p1_dog == False) & (df.p2_dog == False) & (df.p3_dog == False) & (df['dog_category'].isnull())]"
   ]
  },
  {
   "cell_type": "code",
   "execution_count": 31,
   "metadata": {
    "scrolled": true
   },
   "outputs": [
    {
     "data": {
      "text/plain": [
       "(1830, 26)"
      ]
     },
     "execution_count": 31,
     "metadata": {},
     "output_type": "execute_result"
    }
   ],
   "source": [
    "df.shape"
   ]
  },
  {
   "cell_type": "markdown",
   "metadata": {},
   "source": [
    "**10. Define**<br>\n",
    "Calculate a single rating column using the numerator and denominator"
   ]
  },
  {
   "cell_type": "markdown",
   "metadata": {},
   "source": [
    "**Code**"
   ]
  },
  {
   "cell_type": "code",
   "execution_count": 32,
   "metadata": {},
   "outputs": [],
   "source": [
    "df['rating'] = df.rating_numerator / df.rating_denominator"
   ]
  },
  {
   "cell_type": "markdown",
   "metadata": {},
   "source": [
    "**Test**"
   ]
  },
  {
   "cell_type": "code",
   "execution_count": 33,
   "metadata": {},
   "outputs": [
    {
     "data": {
      "text/html": [
       "<div>\n",
       "<style scoped>\n",
       "    .dataframe tbody tr th:only-of-type {\n",
       "        vertical-align: middle;\n",
       "    }\n",
       "\n",
       "    .dataframe tbody tr th {\n",
       "        vertical-align: top;\n",
       "    }\n",
       "\n",
       "    .dataframe thead th {\n",
       "        text-align: right;\n",
       "    }\n",
       "</style>\n",
       "<table border=\"1\" class=\"dataframe\">\n",
       "  <thead>\n",
       "    <tr style=\"text-align: right;\">\n",
       "      <th></th>\n",
       "      <th>tweet_id</th>\n",
       "      <th>timestamp</th>\n",
       "      <th>text</th>\n",
       "      <th>expanded_urls</th>\n",
       "      <th>rating_numerator</th>\n",
       "      <th>rating_denominator</th>\n",
       "      <th>name</th>\n",
       "      <th>doggo</th>\n",
       "      <th>floofer</th>\n",
       "      <th>pupper</th>\n",
       "      <th>...</th>\n",
       "      <th>p2</th>\n",
       "      <th>p2_conf</th>\n",
       "      <th>p2_dog</th>\n",
       "      <th>p3</th>\n",
       "      <th>p3_conf</th>\n",
       "      <th>p3_dog</th>\n",
       "      <th>favorite_count</th>\n",
       "      <th>full_text</th>\n",
       "      <th>retweet_count</th>\n",
       "      <th>rating</th>\n",
       "    </tr>\n",
       "  </thead>\n",
       "  <tbody>\n",
       "    <tr>\n",
       "      <th>0</th>\n",
       "      <td>787717603741622272</td>\n",
       "      <td>2016-10-16 18:11:26</td>\n",
       "      <td>This is Tonks. She is a service puppo. Can hea...</td>\n",
       "      <td>https://twitter.com/dog_rates/status/787717603...</td>\n",
       "      <td>13.0</td>\n",
       "      <td>10.0</td>\n",
       "      <td>Tonks</td>\n",
       "      <td>None</td>\n",
       "      <td>None</td>\n",
       "      <td>None</td>\n",
       "      <td>...</td>\n",
       "      <td>malinois</td>\n",
       "      <td>0.00492</td>\n",
       "      <td>True</td>\n",
       "      <td>kelpie</td>\n",
       "      <td>0.000853</td>\n",
       "      <td>True</td>\n",
       "      <td>10957</td>\n",
       "      <td>This is Tonks. She is a service puppo. Can hea...</td>\n",
       "      <td>3055</td>\n",
       "      <td>1.3</td>\n",
       "    </tr>\n",
       "  </tbody>\n",
       "</table>\n",
       "<p>1 rows × 27 columns</p>\n",
       "</div>"
      ],
      "text/plain": [
       "             tweet_id           timestamp  \\\n",
       "0  787717603741622272 2016-10-16 18:11:26   \n",
       "\n",
       "                                                text  \\\n",
       "0  This is Tonks. She is a service puppo. Can hea...   \n",
       "\n",
       "                                       expanded_urls  rating_numerator  \\\n",
       "0  https://twitter.com/dog_rates/status/787717603...              13.0   \n",
       "\n",
       "   rating_denominator   name doggo floofer pupper   ...          p2  p2_conf  \\\n",
       "0                10.0  Tonks  None    None   None   ...    malinois  0.00492   \n",
       "\n",
       "  p2_dog      p3   p3_conf  p3_dog  favorite_count  \\\n",
       "0   True  kelpie  0.000853    True           10957   \n",
       "\n",
       "                                           full_text  retweet_count  rating  \n",
       "0  This is Tonks. She is a service puppo. Can hea...           3055     1.3  \n",
       "\n",
       "[1 rows x 27 columns]"
      ]
     },
     "execution_count": 33,
     "metadata": {},
     "output_type": "execute_result"
    }
   ],
   "source": [
    "df.head(1)"
   ]
  },
  {
   "cell_type": "markdown",
   "metadata": {},
   "source": [
    "**Saving**"
   ]
  },
  {
   "cell_type": "code",
   "execution_count": 34,
   "metadata": {},
   "outputs": [],
   "source": [
    "df.to_csv('twitter_archive/df_cleaned.csv', index=False)"
   ]
  },
  {
   "cell_type": "markdown",
   "metadata": {},
   "source": [
    "<a id='analyze'></a>\n",
    "# Analyze"
   ]
  },
  {
   "cell_type": "markdown",
   "metadata": {},
   "source": [
    "This dataset can possibly answer some interesting questions:\n",
    "- What type of dog is the most liked?\n",
    "- Does the rating from @WeRateDogs influence the number of retweets or favorites?\n",
    "- Are favorites and retweets correlating?\n",
    "- Is there a prefered dog category? (floofer vs puppo?)\n",
    "- Are there any days where the tweets receive more attention?\n",
    "- When does @WeRateDogs tweet most often?\n",
    "- Is the amount of text that goes with the picture relevant for the number of favorites or retweets?"
   ]
  },
  {
   "cell_type": "code",
   "execution_count": 35,
   "metadata": {
    "scrolled": true
   },
   "outputs": [
    {
     "data": {
      "text/html": [
       "<div>\n",
       "<style scoped>\n",
       "    .dataframe tbody tr th:only-of-type {\n",
       "        vertical-align: middle;\n",
       "    }\n",
       "\n",
       "    .dataframe tbody tr th {\n",
       "        vertical-align: top;\n",
       "    }\n",
       "\n",
       "    .dataframe thead th {\n",
       "        text-align: right;\n",
       "    }\n",
       "</style>\n",
       "<table border=\"1\" class=\"dataframe\">\n",
       "  <thead>\n",
       "    <tr style=\"text-align: right;\">\n",
       "      <th></th>\n",
       "      <th>rating_numerator</th>\n",
       "      <th>rating_denominator</th>\n",
       "      <th>img_num</th>\n",
       "      <th>p1_conf</th>\n",
       "      <th>p2_conf</th>\n",
       "      <th>p3_conf</th>\n",
       "      <th>favorite_count</th>\n",
       "      <th>retweet_count</th>\n",
       "      <th>rating</th>\n",
       "    </tr>\n",
       "  </thead>\n",
       "  <tbody>\n",
       "    <tr>\n",
       "      <th>count</th>\n",
       "      <td>1830.000000</td>\n",
       "      <td>1830.000000</td>\n",
       "      <td>1830.000000</td>\n",
       "      <td>1830.000000</td>\n",
       "      <td>1.830000e+03</td>\n",
       "      <td>1.830000e+03</td>\n",
       "      <td>1830.000000</td>\n",
       "      <td>1830.000000</td>\n",
       "      <td>1830.000000</td>\n",
       "    </tr>\n",
       "    <tr>\n",
       "      <th>mean</th>\n",
       "      <td>12.240984</td>\n",
       "      <td>10.409290</td>\n",
       "      <td>1.206557</td>\n",
       "      <td>0.595396</td>\n",
       "      <td>1.336670e-01</td>\n",
       "      <td>5.984949e-02</td>\n",
       "      <td>8571.543169</td>\n",
       "      <td>2540.652459</td>\n",
       "      <td>1.180100</td>\n",
       "    </tr>\n",
       "    <tr>\n",
       "      <th>std</th>\n",
       "      <td>42.952341</td>\n",
       "      <td>5.979939</td>\n",
       "      <td>0.564060</td>\n",
       "      <td>0.273619</td>\n",
       "      <td>1.007553e-01</td>\n",
       "      <td>5.091321e-02</td>\n",
       "      <td>12260.462274</td>\n",
       "      <td>4411.547069</td>\n",
       "      <td>4.244677</td>\n",
       "    </tr>\n",
       "    <tr>\n",
       "      <th>min</th>\n",
       "      <td>0.000000</td>\n",
       "      <td>7.000000</td>\n",
       "      <td>1.000000</td>\n",
       "      <td>0.044333</td>\n",
       "      <td>1.011300e-08</td>\n",
       "      <td>1.740170e-10</td>\n",
       "      <td>80.000000</td>\n",
       "      <td>12.000000</td>\n",
       "      <td>0.000000</td>\n",
       "    </tr>\n",
       "    <tr>\n",
       "      <th>25%</th>\n",
       "      <td>10.000000</td>\n",
       "      <td>10.000000</td>\n",
       "      <td>1.000000</td>\n",
       "      <td>0.360093</td>\n",
       "      <td>5.307640e-02</td>\n",
       "      <td>1.564975e-02</td>\n",
       "      <td>1969.750000</td>\n",
       "      <td>603.000000</td>\n",
       "      <td>1.000000</td>\n",
       "    </tr>\n",
       "    <tr>\n",
       "      <th>50%</th>\n",
       "      <td>11.000000</td>\n",
       "      <td>10.000000</td>\n",
       "      <td>1.000000</td>\n",
       "      <td>0.588030</td>\n",
       "      <td>1.157480e-01</td>\n",
       "      <td>4.893965e-02</td>\n",
       "      <td>3955.500000</td>\n",
       "      <td>1279.500000</td>\n",
       "      <td>1.100000</td>\n",
       "    </tr>\n",
       "    <tr>\n",
       "      <th>75%</th>\n",
       "      <td>12.000000</td>\n",
       "      <td>10.000000</td>\n",
       "      <td>1.000000</td>\n",
       "      <td>0.853376</td>\n",
       "      <td>1.941662e-01</td>\n",
       "      <td>9.186877e-02</td>\n",
       "      <td>10853.250000</td>\n",
       "      <td>2972.250000</td>\n",
       "      <td>1.200000</td>\n",
       "    </tr>\n",
       "    <tr>\n",
       "      <th>max</th>\n",
       "      <td>1776.000000</td>\n",
       "      <td>150.000000</td>\n",
       "      <td>4.000000</td>\n",
       "      <td>1.000000</td>\n",
       "      <td>4.880140e-01</td>\n",
       "      <td>2.734190e-01</td>\n",
       "      <td>164526.000000</td>\n",
       "      <td>83802.000000</td>\n",
       "      <td>177.600000</td>\n",
       "    </tr>\n",
       "  </tbody>\n",
       "</table>\n",
       "</div>"
      ],
      "text/plain": [
       "       rating_numerator  rating_denominator      img_num      p1_conf  \\\n",
       "count       1830.000000         1830.000000  1830.000000  1830.000000   \n",
       "mean          12.240984           10.409290     1.206557     0.595396   \n",
       "std           42.952341            5.979939     0.564060     0.273619   \n",
       "min            0.000000            7.000000     1.000000     0.044333   \n",
       "25%           10.000000           10.000000     1.000000     0.360093   \n",
       "50%           11.000000           10.000000     1.000000     0.588030   \n",
       "75%           12.000000           10.000000     1.000000     0.853376   \n",
       "max         1776.000000          150.000000     4.000000     1.000000   \n",
       "\n",
       "            p2_conf       p3_conf  favorite_count  retweet_count       rating  \n",
       "count  1.830000e+03  1.830000e+03     1830.000000    1830.000000  1830.000000  \n",
       "mean   1.336670e-01  5.984949e-02     8571.543169    2540.652459     1.180100  \n",
       "std    1.007553e-01  5.091321e-02    12260.462274    4411.547069     4.244677  \n",
       "min    1.011300e-08  1.740170e-10       80.000000      12.000000     0.000000  \n",
       "25%    5.307640e-02  1.564975e-02     1969.750000     603.000000     1.000000  \n",
       "50%    1.157480e-01  4.893965e-02     3955.500000    1279.500000     1.100000  \n",
       "75%    1.941662e-01  9.186877e-02    10853.250000    2972.250000     1.200000  \n",
       "max    4.880140e-01  2.734190e-01   164526.000000   83802.000000   177.600000  "
      ]
     },
     "execution_count": 35,
     "metadata": {},
     "output_type": "execute_result"
    }
   ],
   "source": [
    "df.describe()"
   ]
  },
  {
   "cell_type": "code",
   "execution_count": 36,
   "metadata": {},
   "outputs": [
    {
     "name": "stderr",
     "output_type": "stream",
     "text": [
      "C:\\Users\\march\\Anaconda\\lib\\site-packages\\scipy\\stats\\stats.py:1713: FutureWarning: Using a non-tuple sequence for multidimensional indexing is deprecated; use `arr[tuple(seq)]` instead of `arr[seq]`. In the future this will be interpreted as an array index, `arr[np.array(seq)]`, which will result either in an error or a different result.\n",
      "  return np.add.reduce(sorted[indexer] * weights, axis=axis) / sumval\n"
     ]
    },
    {
     "data": {
      "image/png": "[encoded data removed]",
      "text/plain": [
       "<Figure size 432x288 with 1 Axes>"
      ]
     },
     "metadata": {
      "needs_background": "light"
     },
     "output_type": "display_data"
    }
   ],
   "source": [
    "#Most liked type breed using the top5 of most posted dogs and the number of favorites\n",
    "fig1 = sns.barplot(x='p1', y='favorite_count', data=df, palette='vlag', order=list(df.p1.value_counts().iloc[:5].index))\n",
    "plt.title('Top 10 most liked dog breeds')\n",
    "plt.xticks(rotation=45)\n",
    "plt.xlabel('Dog Breed')\n",
    "plt.ylabel('Number of Favorites');\n",
    "#seaborns barplot automatically applies bootstrapping to the categories to compute a confidence interval"
   ]
  },
  {
   "cell_type": "code",
   "execution_count": 37,
   "metadata": {},
   "outputs": [
    {
     "data": {
      "image/png": "[encoded data removed]",
      "text/plain": [
       "<Figure size 432x288 with 1 Axes>"
      ]
     },
     "metadata": {
      "needs_background": "light"
     },
     "output_type": "display_data"
    }
   ],
   "source": [
    "#Visualization of a possible correlation of the rating and retweets\n",
    "fig2 = sns.scatterplot(x='rating', y='retweet_count', data=df)\n",
    "fig2.set(xlabel='Rating', ylabel='Retweet Count', title='Rating and Retweets')\n",
    "fig2.set(xlim=(0, 4));"
   ]
  },
  {
   "cell_type": "code",
   "execution_count": 38,
   "metadata": {
    "scrolled": true
   },
   "outputs": [
    {
     "name": "stderr",
     "output_type": "stream",
     "text": [
      "C:\\Users\\march\\Anaconda\\lib\\site-packages\\scipy\\stats\\stats.py:1713: FutureWarning: Using a non-tuple sequence for multidimensional indexing is deprecated; use `arr[tuple(seq)]` instead of `arr[seq]`. In the future this will be interpreted as an array index, `arr[np.array(seq)]`, which will result either in an error or a different result.\n",
      "  return np.add.reduce(sorted[indexer] * weights, axis=axis) / sumval\n"
     ]
    },
    {
     "data": {
      "image/png": "[encoded data removed]",
      "text/plain": [
       "<Figure size 432x288 with 1 Axes>"
      ]
     },
     "metadata": {
      "needs_background": "light"
     },
     "output_type": "display_data"
    }
   ],
   "source": [
    "#Correlation of retweets and favorites using seaborns regplot\n",
    "fig3 = sns.regplot(x='favorite_count', y='retweet_count', data=df, scatter_kws={'color':'pink', 'alpha':0.8, 's':20})\n",
    "plt.title('Correlation of Favorites and Retweets')\n",
    "plt.xlabel('Favorites')\n",
    "plt.ylabel('Retweets');"
   ]
  },
  {
   "cell_type": "code",
   "execution_count": 39,
   "metadata": {
    "scrolled": true
   },
   "outputs": [
    {
     "data": {
      "image/png": "[encoded data removed]",
      "text/plain": [
       "<Figure size 432x288 with 1 Axes>"
      ]
     },
     "metadata": {
      "needs_background": "light"
     },
     "output_type": "display_data"
    }
   ],
   "source": [
    "#log10 visualization of retweets and favorites\n",
    "fig3 = sns.scatterplot(x='favorite_count', y='retweet_count', data=df, s=10)\n",
    "fig3.set(xscale='log', yscale='log')\n",
    "plt.title('log10 Correlation of Favorites and Retweets')\n",
    "plt.xlabel('Favorites')\n",
    "plt.ylabel('Retweets');"
   ]
  },
  {
   "cell_type": "code",
   "execution_count": 41,
   "metadata": {
    "scrolled": false
   },
   "outputs": [
    {
     "data": {
      "image/png": "[encoded data removed]",
      "text/plain": [
       "<Figure size 432x288 with 1 Axes>"
      ]
     },
     "metadata": {
      "needs_background": "light"
     },
     "output_type": "display_data"
    }
   ],
   "source": [
    "#Looking for differences in dog_categories and the favorite_count\n",
    "fig4 = sns.boxplot(x='dog_category', y='favorite_count', palette='vlag', data=df, showfliers=False);\n",
    "plt.xlabel('Dog Category')\n",
    "plt.xticks(rotation=45)\n",
    "plt.ylabel('Favorite Count')\n",
    "plt.title('Comparison of Dog Categories with the Number of Favorites');"
   ]
  },
  {
   "cell_type": "markdown",
   "metadata": {},
   "source": [
    "<a id='sources'></a>\n",
    "# Sources"
   ]
  },
  {
   "cell_type": "markdown",
   "metadata": {},
   "source": [
    "JSON encoding: https://docs.python.org/2/library/json.html <br>\n",
    "Pandas .read_json:\n",
    "https://pandas.pydata.org/pandas-docs/stable/generated/pandas.read_json.html <br>\n",
    "Pandas .melt: https://www.codementor.io/abhishake/reshaping-pandas-data-with-melt-lazg3j4te <br>\n",
    "Pandas .str.extract: https://pandas.pydata.org/pandas-docs/stable/generated/pandas.Series.str.extract.html <br>\n",
    "Pandas .merge: https://pandas.pydata.org/pandas-docs/stable/generated/pandas.DataFrame.merge.html <br>\n",
    "Pandas conditional .drop: https://stackoverflow.com/questions/13851535/how-to-delete-rows-from-a-pandas-dataframe-based-on-a-conditional-expression <br>\n",
    "Seaborn Barplot: https://seaborn.pydata.org/tutorial/categorical.html <br>\n",
    "Seaborn Boxplot: https://seaborn.pydata.org/generated/seaborn.boxplot.html <br>\n",
    "Seaborn Regplot vs Scatterplot: https://stackoverflow.com/questions/19068862/how-to-overplot-a-line-on-a-scatter-plot-in-python/19069001#19069001 <br>\n",
    "Seaborn log scaling: https://www.datacamp.com/community/tutorials/seaborn-python-tutorial#log <br>\n",
    "Top results in .value_counts(): https://stackoverflow.com/questions/35364601/group-by-and-find-top-n-value-counts-pandas and https://stackoverflow.com/questions/32891211/limit-the-number-of-groups-shown-in-seaborn-countplot<br>\n",
    "Merging dog_category: https://stackoverflow.com/questions/19377969/combine-two-columns-of-text-in-dataframe-in-pandas-python <br>\n",
    "Smart .drop_duplicates: https://stackoverflow.com/questions/46132884/python-pandas-drop-duplicates-selecting-the-most-complete-row <br>"
   ]
  }
 ],
 "metadata": {
  "kernelspec": {
   "display_name": "Python 3",
   "language": "python",
   "name": "python3"
  },
  "language_info": {
   "codemirror_mode": {
    "name": "ipython",
    "version": 3
   },
   "file_extension": ".py",
   "mimetype": "text/x-python",
   "name": "python",
   "nbconvert_exporter": "python",
   "pygments_lexer": "ipython3",
   "version": "3.7.0"
  }
 },
 "nbformat": 4,
 "nbformat_minor": 2
}
